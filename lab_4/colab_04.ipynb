{
 "cells": [
  {
   "cell_type": "markdown",
   "metadata": {
    "id": "Bkx4cUXoGgHw"
   },
   "source": [
    "<img align=\"center\" style=\"max-width: 1000px\" src=\"banner.png\">"
   ]
  },
  {
   "cell_type": "markdown",
   "metadata": {
    "id": "B0cP5Z789_rr"
   },
   "source": [
    "<img align=\"right\" style=\"max-width: 200px; height: auto\" src=\"hsg_logo.png\">\n",
    "\n",
    "##  Bonus Lab xx - Federated Learning (FL)\n",
    "\n",
    "Fall Semester 2022, University of St. Gallen (HSG)"
   ]
  },
  {
   "cell_type": "markdown",
   "metadata": {
    "id": "Rno8GqfC9_rz"
   },
   "source": [
    "In this lab, we will learn how to federate the training and evaluation of vanilla **Convolutional Neural Network (CNN)** learning. \n",
    "\n",
    "We will use the functionality of the [Flower](www.flower.dev) federated learning framework, to implement the federated learning setup. The different federated clients will collaboratively learn a model to classify the images of the CIFAR-10 dataset. More details on the `Flower` framework can be found via the following link https://flower.dev. Upon successful training, we will utilize the learned CNN model to classify so far unseen tiny images into distinct categories such as aeroplanes, cars, birds, cats, deer, dogs, frogs, horses, ships, and trucks. \n",
    "\n",
    "The figure below illustrates a high-level view on the machine learning process we aim to establish in this lab. This labs builds in large parts on the [An Introduction to Federated Learning](https://github.com/adap/flower/blob/main/doc/source/tutorial/Flower-1-Intro-to-FL-PyTorch.ipynb) notebook developed and published by the `Flower` development team."
   ]
  },
  {
   "cell_type": "markdown",
   "metadata": {
    "id": "nswYOXvk9_r0"
   },
   "source": [
    "<img align=\"center\" style=\"max-width: 600px\" src=\"./federated_learning.png\">"
   ]
  },
  {
   "cell_type": "markdown",
   "metadata": {
    "id": "r93JK2DH9_r0"
   },
   "source": [
    "(Image of the CNN architecture created via http://alexlenail.me/)\n",
    "\n",
    "As always, pls. don't hesitate to ask all your questions either during the lab, post them in our CANVAS (StudyNet) forum (https://learning.unisg.ch), or send us an email (using the course email)."
   ]
  },
  {
   "cell_type": "markdown",
   "metadata": {
    "id": "eW6dySzs9_r1"
   },
   "source": [
    "## 1. Lab Objectives:"
   ]
  },
  {
   "cell_type": "markdown",
   "metadata": {
    "id": "2uzc9Xr69_r1"
   },
   "source": [
    "After today's lab, you should be able to:\n",
    "\n",
    "> 1. Understand the basic concepts, intuitions and major building blocks of **federated learning**.\n",
    "> 2. Know how to **implement federated clients** to enable model parameter sharing and aggregation.\n",
    "> 3. Understand how to **to train arbitrary models** in a federated setup collaboratively.\n",
    "> 4. Know how to **define federated learning strategies** and **run federated learning simulations**."
   ]
  },
  {
   "cell_type": "markdown",
   "metadata": {
    "id": "iPRKkkig9_r2"
   },
   "source": [
    "## 2. Setup of the Jupyter Notebook Environment"
   ]
  },
  {
   "cell_type": "markdown",
   "metadata": {
    "id": "YHYneRa6GgH7"
   },
   "source": [
    "The `Flower - A Friendly Federated Learning Framework` provides a unified approach to federated learning, analytics, and evaluation. It allows to federate a variety of any ML setups. Let's install the `Flower` framework by execution of the following code cell:"
   ]
  },
  {
   "cell_type": "code",
   "execution_count": 1,
   "metadata": {
    "id": "sNgQRE_8GgH7"
   },
   "outputs": [],
   "source": [
    "# !pip3 install -U flwr[\"simulation\"]"
   ]
  },
  {
   "cell_type": "markdown",
   "metadata": {},
   "source": [
    "(Note: You may want to restart the Colab runtime after the installation)."
   ]
  },
  {
   "cell_type": "markdown",
   "metadata": {
    "id": "FdiNpzmzGgH9"
   },
   "source": [
    "Import the federated learning libraries:"
   ]
  },
  {
   "cell_type": "code",
   "execution_count": 2,
   "metadata": {
    "id": "T0ln6vgrGgH9"
   },
   "outputs": [],
   "source": [
    "# import flower libraries\n",
    "import flwr as fl\n",
    "from flwr.common import Metrics"
   ]
  },
  {
   "cell_type": "markdown",
   "metadata": {
    "id": "iANa80_3GgH-"
   },
   "source": [
    "Determine the installed version of the Flower library:"
   ]
  },
  {
   "cell_type": "code",
   "execution_count": 65,
   "metadata": {
    "colab": {
     "base_uri": "https://localhost:8080/"
    },
    "id": "scNyh_WkGgH-",
    "outputId": "90e70f88-81a7-4ed9-c018-2aa022f21410"
   },
   "outputs": [
    {
     "name": "stdout",
     "output_type": "stream",
     "text": [
      "Available Flower library version: 1.0.0\n"
     ]
    }
   ],
   "source": [
    "print('Available Flower library version:', fl.__version__)"
   ]
  },
  {
   "cell_type": "markdown",
   "metadata": {
    "id": "7mZL4i6W9_r2"
   },
   "source": [
    "Similar to the previous labs, we need to import a couple of Python libraries that allow for data analysis and data visualization. We will mostly use the `PyTorch`, `Numpy`, `Sklearn`, `Matplotlib`, `Seaborn` and a few utility libraries throughout this lab:"
   ]
  },
  {
   "cell_type": "markdown",
   "metadata": {
    "id": "rykPqv60GgH_"
   },
   "source": [
    "Import Python utility libraries:"
   ]
  },
  {
   "cell_type": "code",
   "execution_count": 4,
   "metadata": {
    "id": "A9cwWtab9_r2"
   },
   "outputs": [],
   "source": [
    "# import utility python libraries\n",
    "import os\n",
    "from datetime import datetime"
   ]
  },
  {
   "cell_type": "markdown",
   "metadata": {
    "id": "06WkbaPWGgH_"
   },
   "source": [
    "Import Python data container libaries:"
   ]
  },
  {
   "cell_type": "code",
   "execution_count": 5,
   "metadata": {
    "id": "E9_UHUhdGgIA"
   },
   "outputs": [],
   "source": [
    "# import data container libraries\n",
    "import numpy as np\n",
    "from collections import OrderedDict\n",
    "from typing import List, Tuple"
   ]
  },
  {
   "cell_type": "markdown",
   "metadata": {
    "id": "FrB_51t89_r3"
   },
   "source": [
    "Import Python machine / deep learning libraries:"
   ]
  },
  {
   "cell_type": "code",
   "execution_count": 6,
   "metadata": {
    "id": "ZH6LhB_q9_r3"
   },
   "outputs": [
    {
     "name": "stderr",
     "output_type": "stream",
     "text": [
      "/usr/local/lib/python3.10/site-packages/tqdm/auto.py:22: TqdmWarning: IProgress not found. Please update jupyter and ipywidgets. See https://ipywidgets.readthedocs.io/en/stable/user_install.html\n",
      "  from .autonotebook import tqdm as notebook_tqdm\n"
     ]
    }
   ],
   "source": [
    "# import the PyTorch deep learning library\n",
    "import torch, torchvision\n",
    "from torch import nn"
   ]
  },
  {
   "cell_type": "markdown",
   "metadata": {
    "id": "WJJ5kfaf9_r4"
   },
   "source": [
    "Import Python plotting libraries:"
   ]
  },
  {
   "cell_type": "code",
   "execution_count": 7,
   "metadata": {
    "id": "usAgsocK9_r4"
   },
   "outputs": [],
   "source": [
    "# import matplotlib, seaborn, and PIL data visualization libary\n",
    "import matplotlib.pyplot as plt\n",
    "import seaborn as sns\n",
    "from PIL import Image"
   ]
  },
  {
   "cell_type": "markdown",
   "metadata": {
    "id": "kZft6q1B9_r5"
   },
   "source": [
    "Enable notebook matplotlib inline plotting:"
   ]
  },
  {
   "cell_type": "code",
   "execution_count": 8,
   "metadata": {
    "id": "BXnX3zt_9_r5"
   },
   "outputs": [],
   "source": [
    "%matplotlib inline"
   ]
  },
  {
   "cell_type": "markdown",
   "metadata": {
    "id": "-58e-iazJ8Aq"
   },
   "source": [
    "Create a structure of sub-directories to store the data as well as the trained neural network models:"
   ]
  },
  {
   "cell_type": "code",
   "execution_count": 9,
   "metadata": {
    "id": "LtB6DCWjJ-gD"
   },
   "outputs": [],
   "source": [
    " # create data sub-directory inside the Colab Notebooks directory\n",
    "data_directory = './datasets/data_cifar10'\n",
    "if not os.path.exists(data_directory): os.makedirs(data_directory)\n",
    "\n",
    " # create models sub-directory inside the Colab Notebooks directory\n",
    "models_directory = './models/models_cifar10'\n",
    "if not os.path.exists(models_directory): os.makedirs(models_directory)"
   ]
  },
  {
   "cell_type": "markdown",
   "metadata": {
    "id": "wcYgp4Gl9_r6"
   },
   "source": [
    "Set a random `seed` value to obtain reproducible results:"
   ]
  },
  {
   "cell_type": "code",
   "execution_count": 10,
   "metadata": {
    "id": "vdbqEjHb9_r7"
   },
   "outputs": [],
   "source": [
    "# init deterministic seed\n",
    "seed_value = 1234\n",
    "np.random.seed(seed_value) # set numpy seed\n",
    "torch.manual_seed(seed_value); # set pytorch seed CPU"
   ]
  },
  {
   "cell_type": "markdown",
   "metadata": {},
   "source": [
    "Enable GPU computing (if available) by setting the `device` flag and init a `CUDA` seed:"
   ]
  },
  {
   "cell_type": "code",
   "execution_count": 11,
   "metadata": {},
   "outputs": [
    {
     "name": "stdout",
     "output_type": "stream",
     "text": [
      "[LOG] Jupyter notebook with cpu computation enabled\n"
     ]
    }
   ],
   "source": [
    "# set cpu or gpu enabled device\n",
    "device = torch.device('cuda' if torch.cuda.is_available() else 'cpu').type\n",
    "\n",
    "# init deterministic GPU seed\n",
    "torch.cuda.manual_seed(seed_value)\n",
    "\n",
    "# log type of device enabled\n",
    "print('[LOG] Jupyter notebook with {} computation enabled'.format(str(device)))"
   ]
  },
  {
   "cell_type": "markdown",
   "metadata": {
    "id": "XH1CSkRV9_r8"
   },
   "source": [
    "## 3. Dataset Download and Data Assessment"
   ]
  },
  {
   "cell_type": "markdown",
   "metadata": {
    "id": "UWDn7IQE9_r8"
   },
   "source": [
    "The **CIFAR-10 database** (**C**anadian **I**nstitute **F**or **A**dvanced **R**esearch) is a collection of images that are commonly used to train machine learning and computer vision algorithms. The database is widely used to conduct computer vision research using machine learning and deep learning methods:"
   ]
  },
  {
   "cell_type": "markdown",
   "metadata": {
    "id": "awuRyFMd9_r8"
   },
   "source": [
    "<img align=\"center\" style=\"max-width: 500px; height: 500px\" src=\"https://raw.githubusercontent.com/HSG-AIML-Teaching/EMBA2022-Lab/main/lab_05/cifar10.png\">\n",
    "\n",
    "(Source: https://www.kaggle.com/c/cifar-10)"
   ]
  },
  {
   "cell_type": "markdown",
   "metadata": {
    "id": "pjdI5VVN9_r8"
   },
   "source": [
    "Further details on the dataset can be obtained via: *Krizhevsky, A., 2009. \"Learning Multiple Layers of Features from Tiny Images\",  \n",
    "( https://www.cs.toronto.edu/~kriz/learning-features-2009-TR.pdf ).\"*"
   ]
  },
  {
   "cell_type": "markdown",
   "metadata": {
    "id": "IaD13bmO9_r9"
   },
   "source": [
    "The CIFAR-10 database contains **60,000 color images** (50,000 training images and 10,000 validation images). The size of each image is 32 by 32 pixels. The collection of images encompasses 10 different classes that represent airplanes, cars, birds, cats, deer, dogs, frogs, horses, ships, and trucks. Let's define the distinct classs for further analytics:"
   ]
  },
  {
   "cell_type": "code",
   "execution_count": 12,
   "metadata": {
    "id": "1WlB2yXu9_r-"
   },
   "outputs": [],
   "source": [
    "cifar10_classes = ['plane', 'car', 'bird', 'cat', 'deer', 'dog', 'frog', 'horse', 'ship', 'truck']"
   ]
  },
  {
   "cell_type": "markdown",
   "metadata": {
    "id": "kRslZNGV9_r-"
   },
   "source": [
    "Thereby the dataset contains 6,000 images for each of the ten classes. The CIFAR-10 is a straightforward dataset that can be used to teach a computer how to recognize objects in images.\n",
    "\n",
    "Let's download, transform and inspect the training images of the dataset. Therefore, we first will define the directory we aim to store the training data:"
   ]
  },
  {
   "cell_type": "code",
   "execution_count": 13,
   "metadata": {
    "id": "B2Bmhc-c9_r-"
   },
   "outputs": [],
   "source": [
    "train_path = data_directory + '/train_cifar10'"
   ]
  },
  {
   "cell_type": "markdown",
   "metadata": {
    "id": "b6AGBP_K9_r_"
   },
   "source": [
    "Now, let's download the training data accordingly:"
   ]
  },
  {
   "cell_type": "code",
   "execution_count": 14,
   "metadata": {
    "colab": {
     "base_uri": "https://localhost:8080/"
    },
    "id": "G_-Zs4EU9_sA",
    "outputId": "32fd8e23-f2b6-4f8c-8594-574dbee4c9f5"
   },
   "outputs": [
    {
     "name": "stdout",
     "output_type": "stream",
     "text": [
      "Files already downloaded and verified\n"
     ]
    }
   ],
   "source": [
    "# define pytorch transformation into tensor format\n",
    "transf = torchvision.transforms.Compose([torchvision.transforms.ToTensor(), torchvision.transforms.Normalize((0.5, 0.5, 0.5), (0.5, 0.5, 0.5))])\n",
    "\n",
    "# download and transform training images\n",
    "cifar10_train_data = torchvision.datasets.CIFAR10(root=train_path, train=True, transform=transf, download=True)"
   ]
  },
  {
   "cell_type": "markdown",
   "metadata": {
    "id": "g79sdHOw9_sA"
   },
   "source": [
    "Verify the volume of training images downloaded:"
   ]
  },
  {
   "cell_type": "code",
   "execution_count": 15,
   "metadata": {
    "colab": {
     "base_uri": "https://localhost:8080/"
    },
    "id": "uiKFBLrI9_sA",
    "outputId": "2a666ecd-4399-4abc-fe5c-d7fc433af459"
   },
   "outputs": [
    {
     "data": {
      "text/plain": [
       "50000"
      ]
     },
     "execution_count": 15,
     "metadata": {},
     "output_type": "execute_result"
    }
   ],
   "source": [
    "# get the length of the training data\n",
    "len(cifar10_train_data)"
   ]
  },
  {
   "cell_type": "markdown",
   "metadata": {
    "id": "mWcoDhr_9_sC"
   },
   "source": [
    "Let's now decide on where we want to store the evaluation data:"
   ]
  },
  {
   "cell_type": "code",
   "execution_count": 16,
   "metadata": {
    "id": "hKFBcveC9_sC"
   },
   "outputs": [],
   "source": [
    "eval_path = data_directory + '/eval_cifar10'"
   ]
  },
  {
   "cell_type": "markdown",
   "metadata": {
    "id": "nB5OpV4z9_sC"
   },
   "source": [
    "And download the evaluation data accordingly:"
   ]
  },
  {
   "cell_type": "code",
   "execution_count": 17,
   "metadata": {
    "colab": {
     "base_uri": "https://localhost:8080/"
    },
    "id": "L-OOVFFs9_sD",
    "outputId": "9a84eec4-5f45-429c-906a-1d1a5fd09044"
   },
   "outputs": [
    {
     "name": "stdout",
     "output_type": "stream",
     "text": [
      "Files already downloaded and verified\n"
     ]
    }
   ],
   "source": [
    "# define pytorch transformation into tensor format\n",
    "transf = torchvision.transforms.Compose([torchvision.transforms.ToTensor(), torchvision.transforms.Normalize((0.5, 0.5, 0.5), (0.5, 0.5, 0.5))])\n",
    "\n",
    "# download and transform validation images\n",
    "cifar10_eval_dataset = torchvision.datasets.CIFAR10(root=eval_path, train=False, transform=transf, download=True)"
   ]
  },
  {
   "cell_type": "markdown",
   "metadata": {
    "id": "WF4VrcHG9_sD"
   },
   "source": [
    "Verify the volume of validation images downloaded:"
   ]
  },
  {
   "cell_type": "code",
   "execution_count": 18,
   "metadata": {
    "colab": {
     "base_uri": "https://localhost:8080/"
    },
    "id": "vhZRDL4X9_sD",
    "outputId": "5c09e506-8545-4d33-e60b-ac99fe5c204c"
   },
   "outputs": [
    {
     "data": {
      "text/plain": [
       "10000"
      ]
     },
     "execution_count": 18,
     "metadata": {},
     "output_type": "execute_result"
    }
   ],
   "source": [
    "# get the length of the training data\n",
    "len(cifar10_eval_dataset)"
   ]
  },
  {
   "cell_type": "markdown",
   "metadata": {
    "id": "b-J2pz6mGgIP"
   },
   "source": [
    "In this lab, we simulate having a training dataset from **multiple organizations** (also called the 'cross-silo' setting in federated learning) by splitting the original CIFAR-10 dataset into **multiple partitions**. Each partition will represent the data from a single organization.  We're doing this purely for experimentation purposes, in the real world there's no need for data splitting because each organization already has their own data (so the data is naturally partitioned). Each **organization will act as a client** in the federated learning system. So having **4 organizations** participate in a federation means having 4 clients connected to the federated learning server. \n",
    "\n",
    "In a first step, we set the number of federated learning clients: "
   ]
  },
  {
   "cell_type": "code",
   "execution_count": 19,
   "metadata": {
    "id": "mxSrB4zFGgIP"
   },
   "outputs": [],
   "source": [
    "num_clients = 4"
   ]
  },
  {
   "cell_type": "markdown",
   "metadata": {
    "id": "MPVNuBwBGgIP"
   },
   "source": [
    "Next, we partition the training set into 5 partitions of equal size to create the datasets of the individual clients:"
   ]
  },
  {
   "cell_type": "code",
   "execution_count": 20,
   "metadata": {
    "id": "RFVgoUtiGgIQ"
   },
   "outputs": [],
   "source": [
    "# define the partition size of each client dataset\n",
    "partition_size = len(cifar10_train_data) // num_clients\n",
    "\n",
    "# define the length of each partition\n",
    "lengths = [partition_size] * num_clients\n",
    "\n",
    "# create individual client dataset partitions\n",
    "cifar10_train_datasets = torch.utils.data.random_split(cifar10_train_data, lengths, torch.Generator().manual_seed(seed_value))"
   ]
  },
  {
   "cell_type": "markdown",
   "metadata": {},
   "source": [
    "Let's briefly investigate the number of data samples per training partition:"
   ]
  },
  {
   "cell_type": "code",
   "execution_count": 21,
   "metadata": {},
   "outputs": [
    {
     "data": {
      "text/plain": [
       "12500"
      ]
     },
     "execution_count": 21,
     "metadata": {},
     "output_type": "execute_result"
    }
   ],
   "source": [
    "len(cifar10_train_datasets[0])"
   ]
  },
  {
   "cell_type": "markdown",
   "metadata": {
    "id": "B9Xivz3j9_sD"
   },
   "source": [
    "## 4. Federated Client Model Implementation"
   ]
  },
  {
   "cell_type": "markdown",
   "metadata": {
    "id": "5Reatmz29_sD"
   },
   "source": [
    "In this section we, will implement the architecture of the **neural network** we aim to utilize to learn a model that is capable of classifying the 32x32 pixel CIFAR-10 images according to the objects contained in each image. However, before we start the implementation, let's briefly revisit the learning process we aim to establish."
   ]
  },
  {
   "cell_type": "markdown",
   "metadata": {
    "id": "cLOtA61_9_sE"
   },
   "source": [
    "<img align=\"center\" style=\"max-width: 900px\" src=\"https://raw.githubusercontent.com/HSG-AIML-Teaching/EMBA2022-Lab/main/lab_05/process.png\">"
   ]
  },
  {
   "cell_type": "markdown",
   "metadata": {
    "id": "F1qQOztA9_sE"
   },
   "source": [
    "The CNN, which we name `CIFAR10Net` and aim to implement consists of two **convolutional layers** and three **fully-connected layers**. In general, convolutional layers are specifically designed to learn a set of **high-level features** (\"patterns\") in the processed images, e.g., tiny edges and shapes. The fully-connected layers utilize the learned features to learn **non-linear feature combinations** that allow for highly accurate classification of the image content into the different image classes of the CIFAR-10 dataset, such as, birds, aeroplanes, horses."
   ]
  },
  {
   "cell_type": "markdown",
   "metadata": {
    "id": "aLZ0MWtL9_sE"
   },
   "source": [
    "Let's now implement the network architecture:"
   ]
  },
  {
   "cell_type": "code",
   "execution_count": 22,
   "metadata": {
    "id": "XU-lZiqJ9_sF"
   },
   "outputs": [],
   "source": [
    "# implement the CIFAR10Net network architecture\n",
    "class CIFAR10Net(nn.Module):\n",
    "\n",
    "    # define the class constructor\n",
    "    def __init__(self) -> None:\n",
    "\n",
    "        # call super class constructor\n",
    "        super(CIFAR10Net, self).__init__()\n",
    "\n",
    "        # specify convolution layer 1\n",
    "        self.conv1 = nn.Conv2d(in_channels=3, out_channels=6, kernel_size=5, stride=1, padding=0)\n",
    "\n",
    "        # define max-pooling layer 1\n",
    "        self.pool1 = nn.MaxPool2d(kernel_size=2, stride=2)\n",
    "\n",
    "        # specify convolution layer 2\n",
    "        self.conv2 = nn.Conv2d(in_channels=6, out_channels=16, kernel_size=5, stride=1, padding=0)\n",
    "\n",
    "        # define max-pooling layer 2\n",
    "        self.pool2 = nn.MaxPool2d(kernel_size=2, stride=2)\n",
    "\n",
    "        # specify fc layer 1 - in 16 * 5 * 5, out 120\n",
    "        self.linear1 = nn.Linear(16 * 5 * 5, 120, bias=True) # the linearity W*x+b\n",
    "        self.relu1 = nn.ReLU(inplace=True) # the non-linearity\n",
    "\n",
    "        # specify fc layer 2 - in 120, out 84\n",
    "        self.linear2 = nn.Linear(120, 84, bias=True) # the linearity W*x+b\n",
    "        self.relu2 = nn.ReLU(inplace=True) # the non-linarity\n",
    "\n",
    "        # specify fc layer 3 - in 84, out 10\n",
    "        self.linear3 = nn.Linear(84, 10) # the linearity W*x+b\n",
    "\n",
    "        # add a softmax to the last layer\n",
    "        self.logsoftmax = nn.LogSoftmax(dim=1) # the softmax\n",
    "\n",
    "    # define network forward pass\n",
    "    def forward(self, images: torch.Tensor) -> torch.Tensor:\n",
    "\n",
    "        # high-level feature learning via convolutional layers\n",
    "\n",
    "        # define conv layer 1 forward pass\n",
    "        x = self.pool1(self.relu1(self.conv1(images)))\n",
    "\n",
    "        # define conv layer 2 forward pass\n",
    "        x = self.pool2(self.relu2(self.conv2(x)))\n",
    "\n",
    "        # feature flattening\n",
    "\n",
    "        # reshape image pixels\n",
    "        x = x.view(-1, 16 * 5 * 5)\n",
    "\n",
    "        # combination of feature learning via non-linear layers\n",
    "\n",
    "        # define fc layer 1 forward pass\n",
    "        x = self.relu1(self.linear1(x))\n",
    "\n",
    "        # define fc layer 2 forward pass\n",
    "        x = self.relu2(self.linear2(x))\n",
    "\n",
    "        # define layer 3 forward pass\n",
    "        x = self.logsoftmax(self.linear3(x))\n",
    "\n",
    "        # return forward pass result\n",
    "        return x"
   ]
  },
  {
   "cell_type": "markdown",
   "metadata": {
    "id": "UcPpgIWI9_sK"
   },
   "source": [
    "Now, that we have implemented our `CIFAR10Net` we are ready to instantiate a network model to be trained:"
   ]
  },
  {
   "cell_type": "code",
   "execution_count": 23,
   "metadata": {
    "id": "YGRVLvKS9_sK"
   },
   "outputs": [],
   "source": [
    "model = CIFAR10Net()"
   ]
  },
  {
   "cell_type": "markdown",
   "metadata": {
    "id": "wofRVIpA9_sL"
   },
   "source": [
    "Once the model is initialized we can visualize the model structure and review the implemented network architecture by execution of the following cell:"
   ]
  },
  {
   "cell_type": "code",
   "execution_count": 24,
   "metadata": {
    "colab": {
     "base_uri": "https://localhost:8080/"
    },
    "id": "6XyE60fD9_sL",
    "outputId": "b6c63603-ee7b-422c-931c-9a5ab1ddd473"
   },
   "outputs": [
    {
     "name": "stdout",
     "output_type": "stream",
     "text": [
      "[LOG] CIFAR10Net architecture:\n",
      "\n",
      "CIFAR10Net(\n",
      "  (conv1): Conv2d(3, 6, kernel_size=(5, 5), stride=(1, 1))\n",
      "  (pool1): MaxPool2d(kernel_size=2, stride=2, padding=0, dilation=1, ceil_mode=False)\n",
      "  (conv2): Conv2d(6, 16, kernel_size=(5, 5), stride=(1, 1))\n",
      "  (pool2): MaxPool2d(kernel_size=2, stride=2, padding=0, dilation=1, ceil_mode=False)\n",
      "  (linear1): Linear(in_features=400, out_features=120, bias=True)\n",
      "  (relu1): ReLU(inplace=True)\n",
      "  (linear2): Linear(in_features=120, out_features=84, bias=True)\n",
      "  (relu2): ReLU(inplace=True)\n",
      "  (linear3): Linear(in_features=84, out_features=10, bias=True)\n",
      "  (logsoftmax): LogSoftmax(dim=1)\n",
      ")\n",
      "\n"
     ]
    }
   ],
   "source": [
    "# print the initialized architectures\n",
    "print('[LOG] CIFAR10Net architecture:\\n\\n{}\\n'.format(model))"
   ]
  },
  {
   "cell_type": "markdown",
   "metadata": {
    "id": "sWU9hWb_9_sO"
   },
   "source": [
    "## 5. Prepare Federated Client Training and Evaluation"
   ]
  },
  {
   "cell_type": "markdown",
   "metadata": {
    "id": "jdQLICDt9_sO"
   },
   "source": [
    "In this section, we will train our neural network model (as implemented in the section above) using the transformed images. More specifically, we will have a detailed look into the distinct training steps as well as how to monitor the training progress."
   ]
  },
  {
   "cell_type": "markdown",
   "metadata": {
    "id": "Wl5fE-TU9_sL"
   },
   "source": [
    "Looks like intended? Brilliant! Finally, let's have a look into the number of model parameters that we aim to train in the next steps of the notebook:"
   ]
  },
  {
   "cell_type": "code",
   "execution_count": 25,
   "metadata": {
    "colab": {
     "base_uri": "https://localhost:8080/"
    },
    "id": "gkipagYv9_sL",
    "outputId": "a2fee1e0-49f6-4d91-85bf-1d85c595357c"
   },
   "outputs": [
    {
     "name": "stdout",
     "output_type": "stream",
     "text": [
      "[LOG] Number of to be trained CIFAR10Net model parameters: 62006.\n"
     ]
    }
   ],
   "source": [
    "# init the number of model parameters\n",
    "num_params = 0\n",
    "\n",
    "# iterate over the distinct parameters\n",
    "for param in model.parameters():\n",
    "\n",
    "    # collect number of parameters\n",
    "    num_params += param.numel()\n",
    "    \n",
    "# print the number of model paramters\n",
    "print('[LOG] Number of to be trained CIFAR10Net model parameters: {}.'.format(num_params))"
   ]
  },
  {
   "cell_type": "markdown",
   "metadata": {
    "id": "MvqKcKUV9_sM"
   },
   "source": [
    "Ok, our \"simple\" CIFAR10Net model already encompasses an impressive number 62'006 model parameters to be trained."
   ]
  },
  {
   "cell_type": "markdown",
   "metadata": {
    "id": "Ydpb5vlt9_sN"
   },
   "source": [
    "Now that we have successfully implemented and defined the three CNN building blocks let's take some time to review the `CIFAR10Net` model definition as well as the `loss`. Please, read the above code and comments carefully and don't hesitate to let us know any questions you might have."
   ]
  },
  {
   "cell_type": "markdown",
   "metadata": {},
   "source": [
    "### 5.1 Preparing the Training-, Validation-, and Test-Dataloaders"
   ]
  },
  {
   "cell_type": "markdown",
   "metadata": {},
   "source": [
    "In a first step, we wrap the different data partitions by creating `PyTorch` dataloaders for each partition using a common batch size. We will use a **batch size of 32 samples**. Let's define the batch size of the dataloaders accordingly:"
   ]
  },
  {
   "cell_type": "code",
   "execution_count": 26,
   "metadata": {},
   "outputs": [],
   "source": [
    "batch_size = 32"
   ]
  },
  {
   "cell_type": "markdown",
   "metadata": {},
   "source": [
    "Next, we instantiate a list of 4 training and 4 validation dataloaders (`trainloaders` and `valloaders`) representing the data of 4 different organizations. For each train data partition of in total 12,500 samples we will keep 10% for model validation purposes. Ultimately, each **trainloader-valloader pair contains 11,250 training examples and 1,250 validation examples**. We will also instantiate a single `testloader` (since we won't split the test set):"
   ]
  },
  {
   "cell_type": "code",
   "execution_count": 27,
   "metadata": {
    "id": "KkyR0VsEGgIX"
   },
   "outputs": [],
   "source": [
    "# init client train- and valid-dataloaders\n",
    "trainloaders = []\n",
    "valloaders = []\n",
    "\n",
    "# iterate over dataset partitions\n",
    "for dataset in cifar10_train_datasets:\n",
    "    \n",
    "    # determine validation set samples\n",
    "    len_val = len(dataset) // num_clients  # 10 % validation set\n",
    "\n",
    "    # determine training set samples\n",
    "    len_train = len(dataset) - len_val\n",
    "\n",
    "    # compute random training and validation data split\n",
    "    ds_train, ds_val = torch.utils.data.random_split(dataset, [len_train, len_val], torch.Generator().manual_seed(42))\n",
    "\n",
    "    # init and collect client train dataloader\n",
    "    trainloaders.append(torch.utils.data.DataLoader(ds_train, batch_size=batch_size, shuffle=True))\n",
    "\n",
    "    # init and collect client validation dataloader\n",
    "    valloaders.append(torch.utils.data.DataLoader(ds_val, batch_size=batch_size))\n",
    "\n",
    "# init client test dataloader\n",
    "testloader = torch.utils.data.DataLoader(cifar10_eval_dataset, batch_size=batch_size)"
   ]
  },
  {
   "cell_type": "markdown",
   "metadata": {},
   "source": [
    "Please note, this setup is only necessary for building research or educational systems, actual federated learning systems have their data naturally distributed across multiple partitions. Let's take a look at the **first batch of images and corresponding labels** in the first training set (i.e., `trainloaders[0]`) before we move on:"
   ]
  },
  {
   "cell_type": "markdown",
   "metadata": {},
   "source": [
    "Let's take a look at the first batch of images and labels in the first training set (i.e., `trainloaders[0]`) before we move on:"
   ]
  },
  {
   "cell_type": "code",
   "execution_count": 28,
   "metadata": {},
   "outputs": [
    {
     "data": {
      "image/png": "[encoded data removed]",
      "text/plain": [
       "<Figure size 640x480 with 1 Axes>"
      ]
     },
     "metadata": {},
     "output_type": "display_data"
    },
    {
     "name": "stdout",
     "output_type": "stream",
     "text": [
      "plane  ship   cat  frog   cat horse   cat  deer   car   cat  ship  deer  ship truck truck  bird horse  bird  ship   cat plane truck   dog horse horse  deer  ship  deer  deer   dog truck   car\n"
     ]
    }
   ],
   "source": [
    "# define image visualization function\n",
    "def imshow(img):\n",
    "    \n",
    "    # un-normalize image\n",
    "    img = img / 2 + 0.5  # unnormalize\n",
    "    \n",
    "    # transpose and show image\n",
    "    plt.imshow(np.transpose(img.numpy(), (1, 2, 0)))\n",
    "    \n",
    "    # plot image\n",
    "    plt.show()\n",
    "\n",
    "# retrieve random image batch of first dataloader\n",
    "images, labels = iter(trainloaders[0]).next()\n",
    "\n",
    "# create grid plot of image batch \n",
    "imshow(torchvision.utils.make_grid(images))\n",
    "\n",
    "# print labels of image batch\n",
    "print(' '.join('%5s' % cifar10_classes[labels[j]] for j in range(32)))"
   ]
  },
  {
   "cell_type": "markdown",
   "metadata": {},
   "source": [
    "The output above shows a random batch of images from the first `trainloader` in our list of ten `trainloaders`. It also prints the labels associated with each image (i.e., one of the ten possible labels we've seen above). If you run the cell again, you should see another batch of images."
   ]
  },
  {
   "cell_type": "markdown",
   "metadata": {
    "id": "EVM_dXkv9_sP"
   },
   "source": [
    "### 5.2 Preparing the Model Training and Validation Routines"
   ]
  },
  {
   "cell_type": "markdown",
   "metadata": {
    "id": "HgICsmcF9_sN"
   },
   "source": [
    "In a second step, we define the **training routine** that is supposed to be run by each federated client. \n",
    "\n",
    "We will use **Adam optimization** and set the **learning-rate to 0.001**. Each mini-batch step the optimizer will update the model parameters $\\theta$ values according to the degree of classification error determined by the **Negative Log-Likelihood (NLL)** loss. \n",
    "\n",
    "Let's set the training routine hyperparameters accordingly:"
   ]
  },
  {
   "cell_type": "code",
   "execution_count": 29,
   "metadata": {
    "id": "FwFN6G8m9_sN"
   },
   "outputs": [],
   "source": [
    "# define learning rate and optimization strategy\n",
    "learning_rate = 0.001"
   ]
  },
  {
   "cell_type": "markdown",
   "metadata": {},
   "source": [
    "Next, we proceed by implementing a general training routine for each of the federated clients:"
   ]
  },
  {
   "cell_type": "code",
   "execution_count": 30,
   "metadata": {},
   "outputs": [],
   "source": [
    "# define federated client training routine\n",
    "def train(model, trainloader, epochs: int):\n",
    "\n",
    "    \"\"\"Train the network on the training set.\"\"\"\n",
    "\n",
    "    # init optimization criterion\n",
    "    criterion = torch.nn.NLLLoss()\n",
    "    \n",
    "    # push loss to compute device\n",
    "    criterion = criterion.to(device)\n",
    "\n",
    "    # init model optimizer\n",
    "    optimizer = torch.optim.Adam(params=model.parameters(), lr=learning_rate)\n",
    "\n",
    "    # set model in train mode\n",
    "    model.train()\n",
    "\n",
    "    # iterate over training epochs\n",
    "    for epoch in range(epochs):\n",
    "\n",
    "        # init evaluation measures\n",
    "        correct, total, epoch_loss = 0, 0, 0.0\n",
    "\n",
    "        # iterate over data loader batches\n",
    "        for images, labels in trainloader:\n",
    "\n",
    "            # push images and labels to compute device\n",
    "            images, labels = images.to(device), labels.to(device)\n",
    "\n",
    "            # reset optimizer gradients\n",
    "            optimizer.zero_grad()\n",
    "\n",
    "            # run forward pass\n",
    "            outputs = model(images)\n",
    "\n",
    "            # compute loss\n",
    "            loss = criterion(model(images), labels)\n",
    "\n",
    "            # run backward pass\n",
    "            loss.backward()\n",
    "\n",
    "            # update model parameters\n",
    "            optimizer.step()\n",
    "\n",
    "            # collect batch loss\n",
    "            epoch_loss += loss\n",
    "\n",
    "            # collect batch samples\n",
    "            total += labels.size(0)\n",
    "\n",
    "            # collect correctly classified instances\n",
    "            correct += (torch.max(outputs.data, 1)[1] == labels).sum().item()\n",
    "\n",
    "        # compute epoch loss\n",
    "        epoch_loss /= len(testloader.dataset)\n",
    "\n",
    "        # compute epoch accuracy\n",
    "        epoch_accuracy = correct / total\n",
    "\n",
    "        # print training metrics\n",
    "        now = datetime.utcnow().strftime(\"%Y%m%d-%H:%M:%S\")\n",
    "        print('[LOG {}] epoch: {} train-loss: {} accuracy: {}'.format(str(now), str(epoch+1), str(round(epoch_loss.item(), 6)), str(round(epoch_accuracy, 4))))"
   ]
  },
  {
   "cell_type": "markdown",
   "metadata": {
    "id": "sL8GzqrqGgIW"
   },
   "source": [
    "### 5.3 Preparing the Model Validation Routine"
   ]
  },
  {
   "cell_type": "markdown",
   "metadata": {},
   "source": [
    "In a third step, we define the **validation routine** that is supposed to be run by each federated client. \n",
    "\n",
    "We will again use the **Negative Log-Likelihood (NLL)** loss to determine the classification error of a respective client model. In addition, we also compute the **classification accuracy** of the model in terms of the fraction of correctly classified images. \n",
    "\n",
    "Next, let's continue and implement the different steps of the validation routine:"
   ]
  },
  {
   "cell_type": "code",
   "execution_count": 31,
   "metadata": {
    "id": "NvUgiI_IGgIX"
   },
   "outputs": [],
   "source": [
    "# define federated client validation routine\n",
    "def validate(model, testloader):\n",
    "    \n",
    "    \"\"\"Validate the network on the entire test set.\"\"\"\n",
    "    \n",
    "    # define optimization criterion\n",
    "    criterion = nn.NLLLoss()\n",
    "    \n",
    "    # push loss to compute device\n",
    "    criterion = criterion.to(device)\n",
    "    \n",
    "    # init evaluation metrics\n",
    "    correct, total, loss = 0, 0, 0.0\n",
    "    \n",
    "    # set network in eval mode\n",
    "    model.eval()\n",
    "    \n",
    "    # disable gradient computation\n",
    "    with torch.no_grad():\n",
    "        \n",
    "        # iterate over data loader batches\n",
    "        for images, labels in testloader:\n",
    "            \n",
    "            # push images and labels to compute device\n",
    "            images, labels = images.to(device), labels.to(device)\n",
    "            \n",
    "            # run model forward pass\n",
    "            outputs = model(images)\n",
    "            \n",
    "            # compute optimization criterion\n",
    "            loss += criterion(outputs, labels).item()\n",
    "            \n",
    "            # determine class predictions\n",
    "            _, predicted = torch.max(outputs.data, 1)\n",
    "            \n",
    "            # determine total number of samples\n",
    "            total += labels.size(0)\n",
    "            \n",
    "            # determine total number of correct classifcations\n",
    "            correct += (predicted == labels).sum().item()\n",
    "    \n",
    "    # compute evaluation loss\n",
    "    loss /= len(testloader.dataset)\n",
    "    \n",
    "    # compute evaluation accuracy\n",
    "    accuracy = correct / total\n",
    "    \n",
    "    # return evaluation metrics\n",
    "    return loss, accuracy"
   ]
  },
  {
   "cell_type": "markdown",
   "metadata": {
    "id": "5XynE4DPGgIY"
   },
   "source": [
    "Finally, we have **implemented all the basic building blocks** we required: a dataset, a model, a training function, and a test function. \n",
    "\n",
    "Let's put them together to train the model on the dataset of one organization (`trainloaders[0]`). This simulates the reality of most machine learning projects today: each organization has their own data and trains models only on this internal data."
   ]
  },
  {
   "cell_type": "markdown",
   "metadata": {},
   "source": [
    "We will run our evaluation for **2 federated rounds** of communication. In each round, the client will train the model for **5 training epochs**. Therefore, we set the following hyperparameters for the evaluation run:"
   ]
  },
  {
   "cell_type": "code",
   "execution_count": 32,
   "metadata": {},
   "outputs": [],
   "source": [
    "# define number of fl rounds and epochs per round\n",
    "flrounds = 1\n",
    "epochs = 5"
   ]
  },
  {
   "cell_type": "markdown",
   "metadata": {},
   "source": [
    "Let's now proceed and run the simulation for a single organization using the hyperparameter set above:"
   ]
  },
  {
   "cell_type": "code",
   "execution_count": 33,
   "metadata": {
    "colab": {
     "base_uri": "https://localhost:8080/",
     "height": 477
    },
    "id": "fHa0_D4UGgIY",
    "outputId": "07628440-81dc-4864-fbe8-86d1311cb734"
   },
   "outputs": [
    {
     "name": "stdout",
     "output_type": "stream",
     "text": [
      "[LOG 20221017-20:53:51] epoch: 1 train-loss: 0.055613 accuracy: 0.2916\n",
      "[LOG 20221017-20:53:55] epoch: 2 train-loss: 0.046599 accuracy: 0.4087\n",
      "[LOG 20221017-20:54:00] epoch: 3 train-loss: 0.043676 accuracy: 0.4496\n",
      "[LOG 20221017-20:54:04] epoch: 4 train-loss: 0.040982 accuracy: 0.4909\n",
      "[LOG 20221017-20:54:09] epoch: 5 train-loss: 0.038939 accuracy: 0.5213\n",
      "[LOG 20221017-20:54:10] valid-loss: 0.045176 accuracy: 0.4797\n",
      "[LOG 20221017-20:54:15] epoch: 1 train-loss: 0.036939 accuracy: 0.5402\n",
      "[LOG 20221017-20:54:19] epoch: 2 train-loss: 0.035323 accuracy: 0.5662\n",
      "[LOG 20221017-20:54:24] epoch: 3 train-loss: 0.033743 accuracy: 0.5837\n",
      "[LOG 20221017-20:54:28] epoch: 4 train-loss: 0.032287 accuracy: 0.5959\n",
      "[LOG 20221017-20:54:33] epoch: 5 train-loss: 0.031194 accuracy: 0.6156\n",
      "[LOG 20221017-20:54:34] valid-loss: 0.045391 accuracy: 0.4957\n",
      "[LOG 20221017-20:54:37] final test-loss: 0.044495 accuracy: 0.5085\n"
     ]
    }
   ],
   "source": [
    "# get the first train dataloader\n",
    "trainloader = trainloaders[0]\n",
    "\n",
    "# get the first validation dataloader\n",
    "valloader = valloaders[0]\n",
    "\n",
    "# instantiate model and push compute device\n",
    "model = CIFAR10Net().to(device)\n",
    "\n",
    "# iterate over federated rounds\n",
    "for flround in range(flrounds):\n",
    "\n",
    "    # train model\n",
    "    train(model, trainloader, epochs)\n",
    "\n",
    "    # validate model\n",
    "    valid_loss, valid_accuracy = validate(model, valloader)\n",
    "\n",
    "    # print validation metrics\n",
    "    now = datetime.utcnow().strftime(\"%Y%m%d-%H:%M:%S\")\n",
    "    print('[LOG {}] valid-loss: {} accuracy: {}'.format(str(now), str(round(valid_loss, 6)), str(round(valid_accuracy, 4))))\n",
    "\n",
    "# test model\n",
    "test_loss, test_accuracy = validate(model, testloader)\n",
    "\n",
    "# print final test metrics\n",
    "now = datetime.utcnow().strftime(\"%Y%m%d-%H:%M:%S\")\n",
    "print('[LOG {}] final test-loss: {} accuracy: {}'.format(str(now), str(round(test_loss, 6)), str(round(test_accuracy, 4))))"
   ]
  },
  {
   "cell_type": "markdown",
   "metadata": {},
   "source": [
    "Training the simple CNN on our **CIFAR-10 split for 2 rounds and 5 epochs** should result in a test set accuracy of **about 50%**, which is not great, but at the same time, it doesn't really matter for the purposes of this lab. The intent was just to show a simplistic centralized training pipeline that sets the stage **federated learning**."
   ]
  },
  {
   "cell_type": "markdown",
   "metadata": {
    "id": "82Abs6o4GgIY"
   },
   "source": [
    "## 6. Setup Federated Learning Clients"
   ]
  },
  {
   "cell_type": "markdown",
   "metadata": {},
   "source": [
    "The notebook cells above demonstrated a simple centralized training workflow. Next, we'll prepare a simulation where we have multiple datasets in multiple organizations. Finally, we will train a model over these organizations using federated learning."
   ]
  },
  {
   "cell_type": "markdown",
   "metadata": {},
   "source": [
    "### 6.1 Get and Set the Client Model Parameters"
   ]
  },
  {
   "cell_type": "markdown",
   "metadata": {},
   "source": [
    "In federated learning, the server sends the global model parameters to the client, and the client updates the local model with the parameters received from the server. It then trains the model on the local data (which changes the model parameters locally) and sends the updated/changed model parameters back to the server (or, alternatively, it sends just the gradients back to the server, not the full model parameters).\n",
    "\n",
    "To establish such a setup in the `Flower` library, we need to implement **two helper functions**. This to **update the local model with parameters received from the server** and to **get the updated model parameters from the local model**. The following two functions do just that for the `PyTorch` model above:"
   ]
  },
  {
   "cell_type": "code",
   "execution_count": 34,
   "metadata": {
    "id": "BRimojzTGgIY"
   },
   "outputs": [],
   "source": [
    "# define the set parameter function -> update local model parameters\n",
    "def set_parameters(net, parameters: List[np.ndarray]):\n",
    "    \n",
    "    # determine parameters dictionary\n",
    "    params_dict = zip(net.state_dict().keys(), parameters)\n",
    "    \n",
    "    # convert to torch tensors to ordered dict\n",
    "    state_dict = OrderedDict({k: torch.Tensor(v) for k, v in params_dict})\n",
    "    \n",
    "    # load parameters into model\n",
    "    net.load_state_dict(state_dict, strict=True)\n",
    "\n",
    "# define the get parameter function -> get local model parameters\n",
    "def get_parameters(net) -> List[np.ndarray]:\n",
    "    \n",
    "    # determine the model parameters as list of numpy arrays\n",
    "    parameters = [val.cpu().numpy() for _, val in net.state_dict().items()]\n",
    "    \n",
    "    # return the model parameters\n",
    "    return parameters"
   ]
  },
  {
   "cell_type": "markdown",
   "metadata": {},
   "source": [
    "The details of how both functions work are not really important here (feel free to consult the PyTorch documentation if you want to learn more). In essence, we use `state_dict` to access PyTorch model parameter tensors. The parameter tensors are then converted to/from a list of NumPy ndarray's (which Flower knows how to serialize/deserialize)."
   ]
  },
  {
   "cell_type": "markdown",
   "metadata": {},
   "source": [
    "### 6.2 Implement Federated Client"
   ]
  },
  {
   "cell_type": "markdown",
   "metadata": {
    "id": "nFZNc_ALGgIZ"
   },
   "source": [
    "With that out of the way, let's move on to the interesting part. Federated learning systems consist of a server and multiple clients. In `Flower`, clients can be created by using the subclass`flwr.client.NumPyClient`. We will use this subclass in this tutorial since it is straightforward to implement. To implement the Flower client, we create a subclass of `flwr.client.NumPyClient` and implement the three methods (i) `get_parameters`, (ii) `fit`, and (iii) `evaluate`. \n",
    "\n",
    "> * The `get_parameters` method returns the current local model parameters. \n",
    "> * The `fit` method receives model parameters from the server, train the model parameters on the local data, and return the (updated) model parameters to the server. \n",
    "> * The `evaluate` method receives model parameters from the server, evaluate the model parameters on the local data, and return the evaluation result to the server.\n",
    "\n",
    "Next, let's accomplish a simple `Flower` client implementation that brings everything together:"
   ]
  },
  {
   "cell_type": "code",
   "execution_count": 35,
   "metadata": {
    "id": "tPlxIET_GgIZ"
   },
   "outputs": [],
   "source": [
    "# define federated client\n",
    "class FederatedClient(fl.client.NumPyClient):\n",
    "\n",
    "    # init the federated client\n",
    "    def __init__(self, net, trainloader, valloader):\n",
    "        self.net = net\n",
    "        self.trainloader = trainloader\n",
    "        self.valloader = valloader\n",
    "\n",
    "    # define get parameters function\n",
    "    def get_parameters(self, config):\n",
    "        return get_parameters(self.net)\n",
    "\n",
    "    # define model training function\n",
    "    def fit(self, parameters, config):\n",
    "        set_parameters(self.net, parameters)\n",
    "        train(self.net, self.trainloader, epochs=epochs)\n",
    "        return get_parameters(self.net), len(self.trainloader), {}\n",
    "\n",
    "    # define model evaluation function\n",
    "    def evaluate(self, parameters, config):\n",
    "        set_parameters(self.net, parameters)\n",
    "        loss, accuracy = validate(self.net, self.valloader)\n",
    "        return float(loss), len(self.valloader), {\"accuracy\": float(accuracy)}"
   ]
  },
  {
   "cell_type": "markdown",
   "metadata": {},
   "source": [
    "The `FlowerClient` client defines how local training/evaluation will be performed and allows `Flowe` to call the local training/evaluation through `fit` and `evaluate`. Each instance of `FlowerClient` represents a *single client* in our federated learning system. \n",
    "\n",
    "Federated learning systems have multiple clients (otherwise there's not much to federate), so each client will be represented by its own instance of `FlowerClient`. If we have, for example, three clients in our workload, then we'd have three instances of `FlowerClient`. Flower calls `FlowerClient.fit` on the respective instance when the server selects a particular client for training (and `FlowerClient.evaluate` for evaluation)."
   ]
  },
  {
   "cell_type": "markdown",
   "metadata": {},
   "source": [
    "### 6.3 Instantiate Federated Client"
   ]
  },
  {
   "cell_type": "markdown",
   "metadata": {},
   "source": [
    "To enable the `Flower` libray to dynamically create clients when necessary, we need to implement a function called `client_fn` that creates a `FlowerClient` instance on demand. Flower calls `client_fn` whenever it needs an instance of one particular client to call `fit` or `evaluate` (those instances are usually discarded after use, so they should not keep any local state). Clients are identified by a client ID, or short `cid`. The `cid` can be used, for example, to load different local data partitions for different clients, as can be seen below:"
   ]
  },
  {
   "cell_type": "code",
   "execution_count": 41,
   "metadata": {
    "id": "JNAsKmp7GgIa"
   },
   "outputs": [],
   "source": [
    "def client_fn(cid: str) -> FederatedClient:\n",
    "\n",
    "    \"\"\"Create a Flower client representing a single organization.\"\"\"\n",
    "\n",
    "    # instantiate client model\n",
    "    model = CIFAR10Net()\n",
    "\n",
    "    # push client model to compute device\n",
    "    model = model.to(device)\n",
    "\n",
    "    # init the client train dataloader\n",
    "    trainloader = trainloaders[int(cid)]\n",
    "    \n",
    "    # init the client eval dataloader\n",
    "    valloader = valloaders[int(cid)]\n",
    "    \n",
    "    # note: each client gets a different trainloader/valloader, so each client\n",
    "    # will train and evaluate on their own unique data\n",
    "    \n",
    "    # instantiate a single federated client representing a single organization\n",
    "    return FederatedClient(model, trainloader, valloader)"
   ]
  },
  {
   "cell_type": "markdown",
   "metadata": {},
   "source": [
    "We now have the class `FlowerClient` which defines client-side training/evaluation and `client_fn` which allows Flower to create `FlowerClient` instances whenever it needs to call `fit` or `evaluate` on one particular client.\n",
    "\n",
    "In this lab, we want to simulate a federated learning system with **4 clients on a single machine**. This means that the server and all 4 clients will live on a single machine and share resources such as CPU, GPU, and memory. Having 4 clients would mean having 4 instances of `FlowerClient` in memory. \n",
    "\n",
    "Please note, doing such simulations on a single machine can quickly exhaust the available memory resources, even if only a subset of these clients participates in a single round of federated learning."
   ]
  },
  {
   "cell_type": "markdown",
   "metadata": {},
   "source": [
    "## 7. Setup and Run Federated Learning Simulation"
   ]
  },
  {
   "cell_type": "markdown",
   "metadata": {},
   "source": [
    "In the following, we will define a federated evaluation metric and federated learning strategy. Afterwards, we will run our first federated learning simulation using the `Flower`framework. Finally, we will investigate and visualize the obtained results. "
   ]
  },
  {
   "cell_type": "markdown",
   "metadata": {},
   "source": [
    "### 7.1 Define Federated Evaluation Metric"
   ]
  },
  {
   "cell_type": "markdown",
   "metadata": {},
   "source": [
    "In the `Flower` framework we need to define evaluation metrics and how to handle/aggregate these metrics. Let's create a simple weighted averaging function to aggregate the classification `accuracy` metric we return from each federated client via its respective `evaluate` function:"
   ]
  },
  {
   "cell_type": "code",
   "execution_count": 47,
   "metadata": {
    "id": "BB76ffyaMnxt"
   },
   "outputs": [],
   "source": [
    "# define weighted average of client's classifcation accuracy\n",
    "def weighted_average(metrics: List[Tuple[int, Metrics]]) -> Metrics:\n",
    "    \n",
    "    # multiply accuracy of each client by number of examples used\n",
    "    accuracies = [num_examples * m[\"accuracy\"] for num_examples, m in metrics]\n",
    "    examples = [num_examples for num_examples, _ in metrics]\n",
    "    \n",
    "    # compute average weighted classification accuracy\n",
    "    accuracy = round(sum(accuracies) / sum(examples), 4)\n",
    "    \n",
    "    # print validation metrics\n",
    "    now = datetime.utcnow().strftime(\"%Y%m%d-%H:%M:%S\")\n",
    "    print('[LOG {}] weighted average accuracy: {}'.format(str(now), str(accuracy, 4)))\n",
    "\n",
    "    # aggregate and return custom metric (weighted average)\n",
    "    return {\"accuracy\": accuracy}"
   ]
  },
  {
   "cell_type": "markdown",
   "metadata": {},
   "source": [
    "### 7.2 Define Federated Learning Strategy"
   ]
  },
  {
   "cell_type": "markdown",
   "metadata": {},
   "source": [
    "Flower has a number of built-in strategies, but we can also use our own strategy implementations to customize nearly all aspects of the federated learning approach. For this example, we use the built-in **Federated Averaging (*FedAvg*) strategy** implementation and customize it using a few hyperparameters. \n",
    "\n",
    "We set the following hyperparameters of the strategy:"
   ]
  },
  {
   "cell_type": "code",
   "execution_count": 48,
   "metadata": {},
   "outputs": [],
   "source": [
    "# Sample 100% of available clients for training\n",
    "fraction_fit=1.0\n",
    "\n",
    "# Sample 50% of available clients for evaluation\n",
    "fraction_evaluate=0.5\n",
    "\n",
    "# Never sample less than 4 clients for training\n",
    "min_fit_clients=num_clients // 2\n",
    "\n",
    "# Never sample less than 5 clients for evaluation\n",
    "min_evaluate_clients=num_clients // 2\n",
    "\n",
    "# Wait until all 4 clients are available\n",
    "min_available_clients=num_clients"
   ]
  },
  {
   "cell_type": "markdown",
   "metadata": {},
   "source": [
    "Next, we also tell the strategy how to handle/aggregate custom evaluation metrics, and we do so by passing metric aggregation functions to the strategy. The strategy will then call these functions whenever it receives fit or evaluate metrics from clients. To compute the **weighted average classification error** upon each training round we set the `evaluate_metrics_aggregation_fn` parameter accordingly. \n",
    "\n",
    "Let's now parametrize and init the *FedAvg* strategy:"
   ]
  },
  {
   "cell_type": "code",
   "execution_count": 52,
   "metadata": {
    "id": "zGx_MjGfGgIa"
   },
   "outputs": [],
   "source": [
    "# init FedAvg learning strategy\n",
    "strategy = fl.server.strategy.FedAvg(\n",
    "        fraction_fit=fraction_fit,\n",
    "        fraction_evaluate=fraction_evaluate,\n",
    "        min_fit_clients=min_fit_clients,\n",
    "        min_evaluate_clients=min_evaluate_clients,\n",
    "        min_available_clients=num_clients,\n",
    "        evaluate_metrics_aggregation_fn=weighted_average,\n",
    ")"
   ]
  },
  {
   "cell_type": "markdown",
   "metadata": {},
   "source": [
    "### 7.3 Run Federated Learning Simulation"
   ]
  },
  {
   "cell_type": "markdown",
   "metadata": {},
   "source": [
    "Finally, we are able to run an actual federated learning simulation using `flwr.simulation.start_simulation`. To start the simulation we run the `start_simulation` method which - you guessed it - starts the simulation. \n",
    "\n",
    "But how will this work? How does the `Flower` library execute this simulation?\n",
    "\n",
    "When we call `start_simulation`, we tell the `Flower` library that there are 4 clients (`num_clients = 4`). Flower then goes ahead an asks the `FedAvg` strategy to select clients. `FedAvg` knows that it should select 100% of the available clients (`fraction_fit=1.0`), so it goes ahead and selects 4 random clients (i.e., 100% of 4).\n",
    "\n",
    "Next, the `Flower` libray asks the selected 4 clients to train the model. When the server receives the model parameter updates from the clients, it hands those updates over to the strategy (*FedAvg*) for aggregation. The strategy aggregates those updates and returns the new global model, which then gets used in the next round of federated learning. Let's now start the simulation accordingly:"
   ]
  },
  {
   "cell_type": "markdown",
   "metadata": {},
   "source": [
    "Before start the simulation we set the number of **federated training rounds** we aim to simulate:"
   ]
  },
  {
   "cell_type": "code",
   "execution_count": 53,
   "metadata": {},
   "outputs": [],
   "source": [
    "# define number of fl rounds\n",
    "flrounds = 5"
   ]
  },
  {
   "cell_type": "markdown",
   "metadata": {},
   "source": [
    "Let's now proceed and start the simulation accordingly:"
   ]
  },
  {
   "cell_type": "code",
   "execution_count": 54,
   "metadata": {
    "colab": {
     "base_uri": "https://localhost:8080/",
     "height": 616
    },
    "id": "4hASllurGgIa",
    "outputId": "9376c26d-d2cb-48a3-cacb-9b700020c084"
   },
   "outputs": [
    {
     "name": "stderr",
     "output_type": "stream",
     "text": [
      "INFO flower 2022-10-17 17:20:36,290 | app.py:142 | Starting Flower simulation, config: ServerConfig(num_rounds=5, round_timeout=None)\n",
      "INFO flower 2022-10-17 17:20:42,836 | app.py:176 | Flower VCE: Ray initialized with resources: {'CPU': 12.0, 'node:127.0.0.1': 1.0, 'object_store_memory': 2147483648.0, 'memory': 14897637376.0}\n",
      "INFO flower 2022-10-17 17:20:42,838 | server.py:86 | Initializing global parameters\n",
      "INFO flower 2022-10-17 17:20:42,839 | server.py:270 | Requesting initial parameters from one random client\n",
      "INFO flower 2022-10-17 17:20:45,635 | server.py:274 | Received initial parameters from one random client\n",
      "INFO flower 2022-10-17 17:20:45,636 | server.py:88 | Evaluating initial parameters\n",
      "INFO flower 2022-10-17 17:20:45,636 | server.py:101 | FL starting\n",
      "DEBUG flower 2022-10-17 17:20:45,637 | server.py:215 | fit_round 1: strategy sampled 4 clients (out of 4)\n"
     ]
    },
    {
     "name": "stdout",
     "output_type": "stream",
     "text": [
      "\u001b[2m\u001b[36m(launch_and_fit pid=96703)\u001b[0m [LOG 20221017-21:20:56] epoch: 1 train-loss: 0.056586 accuracy: 0.2822\n",
      "\u001b[2m\u001b[36m(launch_and_fit pid=96699)\u001b[0m [LOG 20221017-21:20:57] epoch: 1 train-loss: 0.055992 accuracy: 0.2935\n",
      "\u001b[2m\u001b[36m(launch_and_fit pid=96696)\u001b[0m [LOG 20221017-21:20:57] epoch: 1 train-loss: 0.056694 accuracy: 0.2759\n",
      "\u001b[2m\u001b[36m(launch_and_fit pid=96695)\u001b[0m [LOG 20221017-21:20:57] epoch: 1 train-loss: 0.057092 accuracy: 0.2788\n",
      "\u001b[2m\u001b[36m(launch_and_fit pid=96703)\u001b[0m [LOG 20221017-21:21:01] epoch: 2 train-loss: 0.047572 accuracy: 0.4034\n",
      "\u001b[2m\u001b[36m(launch_and_fit pid=96699)\u001b[0m [LOG 20221017-21:21:02] epoch: 2 train-loss: 0.047364 accuracy: 0.4069\n",
      "\u001b[2m\u001b[36m(launch_and_fit pid=96696)\u001b[0m [LOG 20221017-21:21:02] epoch: 2 train-loss: 0.047997 accuracy: 0.3984\n",
      "\u001b[2m\u001b[36m(launch_and_fit pid=96695)\u001b[0m [LOG 20221017-21:21:02] epoch: 2 train-loss: 0.048682 accuracy: 0.3838\n",
      "\u001b[2m\u001b[36m(launch_and_fit pid=96703)\u001b[0m [LOG 20221017-21:21:06] epoch: 3 train-loss: 0.044291 accuracy: 0.4451\n",
      "\u001b[2m\u001b[36m(launch_and_fit pid=96696)\u001b[0m [LOG 20221017-21:21:07] epoch: 3 train-loss: 0.044056 accuracy: 0.4512\n",
      "\u001b[2m\u001b[36m(launch_and_fit pid=96699)\u001b[0m [LOG 20221017-21:21:07] epoch: 3 train-loss: 0.043757 accuracy: 0.4541\n",
      "\u001b[2m\u001b[36m(launch_and_fit pid=96695)\u001b[0m [LOG 20221017-21:21:07] epoch: 3 train-loss: 0.044836 accuracy: 0.4388\n",
      "\u001b[2m\u001b[36m(launch_and_fit pid=96703)\u001b[0m [LOG 20221017-21:21:11] epoch: 4 train-loss: 0.041451 accuracy: 0.4814\n",
      "\u001b[2m\u001b[36m(launch_and_fit pid=96696)\u001b[0m [LOG 20221017-21:21:12] epoch: 4 train-loss: 0.041215 accuracy: 0.4837\n",
      "\u001b[2m\u001b[36m(launch_and_fit pid=96699)\u001b[0m [LOG 20221017-21:21:12] epoch: 4 train-loss: 0.041404 accuracy: 0.4843\n",
      "\u001b[2m\u001b[36m(launch_and_fit pid=96695)\u001b[0m [LOG 20221017-21:21:12] epoch: 4 train-loss: 0.042299 accuracy: 0.4724\n",
      "\u001b[2m\u001b[36m(launch_and_fit pid=96703)\u001b[0m [LOG 20221017-21:21:16] epoch: 5 train-loss: 0.039645 accuracy: 0.5022\n",
      "\u001b[2m\u001b[36m(launch_and_fit pid=96696)\u001b[0m [LOG 20221017-21:21:17] epoch: 5 train-loss: 0.039127 accuracy: 0.5164\n",
      "\u001b[2m\u001b[36m(launch_and_fit pid=96699)\u001b[0m [LOG 20221017-21:21:17] epoch: 5 train-loss: 0.03944 accuracy: 0.5137\n"
     ]
    },
    {
     "name": "stderr",
     "output_type": "stream",
     "text": [
      "DEBUG flower 2022-10-17 17:21:17,704 | server.py:229 | fit_round 1 received 4 results and 0 failures\n",
      "WARNING flower 2022-10-17 17:21:17,716 | fedavg.py:243 | No fit_metrics_aggregation_fn provided\n",
      "DEBUG flower 2022-10-17 17:21:17,717 | server.py:165 | evaluate_round 1: strategy sampled 2 clients (out of 4)\n"
     ]
    },
    {
     "name": "stdout",
     "output_type": "stream",
     "text": [
      "\u001b[2m\u001b[36m(launch_and_fit pid=96695)\u001b[0m [LOG 20221017-21:21:17] epoch: 5 train-loss: 0.039685 accuracy: 0.5105\n"
     ]
    },
    {
     "name": "stderr",
     "output_type": "stream",
     "text": [
      "DEBUG flower 2022-10-17 17:21:21,969 | server.py:179 | evaluate_round 1 received 2 results and 0 failures\n",
      "DEBUG flower 2022-10-17 17:21:21,970 | server.py:215 | fit_round 2: strategy sampled 4 clients (out of 4)\n"
     ]
    },
    {
     "name": "stdout",
     "output_type": "stream",
     "text": [
      "[LOG 20221017-21:21:21] weighted average accuracy: 0.3845\n",
      "\u001b[2m\u001b[36m(launch_and_fit pid=96695)\u001b[0m [LOG 20221017-21:21:32] epoch: 1 train-loss: 0.042535 accuracy: 0.4715\n",
      "\u001b[2m\u001b[36m(launch_and_fit pid=96703)\u001b[0m [LOG 20221017-21:21:32] epoch: 1 train-loss: 0.042522 accuracy: 0.4693\n",
      "\u001b[2m\u001b[36m(launch_and_fit pid=96696)\u001b[0m [LOG 20221017-21:21:32] epoch: 1 train-loss: 0.043213 accuracy: 0.4665\n",
      "\u001b[2m\u001b[36m(launch_and_fit pid=96699)\u001b[0m [LOG 20221017-21:21:32] epoch: 1 train-loss: 0.042901 accuracy: 0.4629\n",
      "\u001b[2m\u001b[36m(launch_and_fit pid=96695)\u001b[0m [LOG 20221017-21:21:37] epoch: 2 train-loss: 0.039105 accuracy: 0.5248\n",
      "\u001b[2m\u001b[36m(launch_and_fit pid=96696)\u001b[0m [LOG 20221017-21:21:37] epoch: 2 train-loss: 0.0395 accuracy: 0.5079\n",
      "\u001b[2m\u001b[36m(launch_and_fit pid=96703)\u001b[0m [LOG 20221017-21:21:37] epoch: 2 train-loss: 0.039125 accuracy: 0.5186\n",
      "\u001b[2m\u001b[36m(launch_and_fit pid=96699)\u001b[0m [LOG 20221017-21:21:37] epoch: 2 train-loss: 0.039715 accuracy: 0.5088\n",
      "\u001b[2m\u001b[36m(launch_and_fit pid=96695)\u001b[0m [LOG 20221017-21:21:41] epoch: 3 train-loss: 0.03701 accuracy: 0.5442\n",
      "\u001b[2m\u001b[36m(launch_and_fit pid=96696)\u001b[0m [LOG 20221017-21:21:41] epoch: 3 train-loss: 0.037422 accuracy: 0.5418\n",
      "\u001b[2m\u001b[36m(launch_and_fit pid=96703)\u001b[0m [LOG 20221017-21:21:42] epoch: 3 train-loss: 0.036463 accuracy: 0.5515\n",
      "\u001b[2m\u001b[36m(launch_and_fit pid=96699)\u001b[0m [LOG 20221017-21:21:42] epoch: 3 train-loss: 0.037121 accuracy: 0.5453\n",
      "\u001b[2m\u001b[36m(launch_and_fit pid=96695)\u001b[0m [LOG 20221017-21:21:47] epoch: 4 train-loss: 0.035105 accuracy: 0.5703\n",
      "\u001b[2m\u001b[36m(launch_and_fit pid=96696)\u001b[0m [LOG 20221017-21:21:47] epoch: 4 train-loss: 0.035184 accuracy: 0.5654\n",
      "\u001b[2m\u001b[36m(launch_and_fit pid=96703)\u001b[0m [LOG 20221017-21:21:47] epoch: 4 train-loss: 0.034571 accuracy: 0.5766\n",
      "\u001b[2m\u001b[36m(launch_and_fit pid=96699)\u001b[0m [LOG 20221017-21:21:47] epoch: 4 train-loss: 0.034892 accuracy: 0.5657\n",
      "\u001b[2m\u001b[36m(launch_and_fit pid=96695)\u001b[0m [LOG 20221017-21:21:52] epoch: 5 train-loss: 0.032891 accuracy: 0.5938\n",
      "\u001b[2m\u001b[36m(launch_and_fit pid=96696)\u001b[0m [LOG 20221017-21:21:52] epoch: 5 train-loss: 0.033107 accuracy: 0.5971\n"
     ]
    },
    {
     "name": "stderr",
     "output_type": "stream",
     "text": [
      "DEBUG flower 2022-10-17 17:21:53,240 | server.py:229 | fit_round 2 received 4 results and 0 failures\n",
      "DEBUG flower 2022-10-17 17:21:53,252 | server.py:165 | evaluate_round 2: strategy sampled 2 clients (out of 4)\n"
     ]
    },
    {
     "name": "stdout",
     "output_type": "stream",
     "text": [
      "\u001b[2m\u001b[36m(launch_and_fit pid=96703)\u001b[0m [LOG 20221017-21:21:53] epoch: 5 train-loss: 0.032672 accuracy: 0.6047\n",
      "\u001b[2m\u001b[36m(launch_and_fit pid=96699)\u001b[0m [LOG 20221017-21:21:53] epoch: 5 train-loss: 0.032788 accuracy: 0.5974\n"
     ]
    },
    {
     "name": "stderr",
     "output_type": "stream",
     "text": [
      "DEBUG flower 2022-10-17 17:21:58,934 | server.py:179 | evaluate_round 2 received 2 results and 0 failures\n",
      "DEBUG flower 2022-10-17 17:21:58,935 | server.py:215 | fit_round 3: strategy sampled 4 clients (out of 4)\n"
     ]
    },
    {
     "name": "stdout",
     "output_type": "stream",
     "text": [
      "[LOG 20221017-21:21:58] weighted average accuracy: 0.5456\n"
     ]
    },
    {
     "name": "stderr",
     "output_type": "stream",
     "text": [
      "\u001b[2m\u001b[36m(raylet)\u001b[0m Spilled 2116 MiB, 20 objects, write throughput 507 MiB/s. Set RAY_verbose_spill_logs=0 to disable this message.\n"
     ]
    },
    {
     "name": "stdout",
     "output_type": "stream",
     "text": [
      "\u001b[2m\u001b[36m(launch_and_fit pid=96703)\u001b[0m [LOG 20221017-21:22:11] epoch: 1 train-loss: 0.036268 accuracy: 0.5589\n",
      "\u001b[2m\u001b[36m(launch_and_fit pid=96696)\u001b[0m [LOG 20221017-21:22:11] epoch: 1 train-loss: 0.035476 accuracy: 0.5685\n",
      "\u001b[2m\u001b[36m(launch_and_fit pid=96699)\u001b[0m [LOG 20221017-21:22:11] epoch: 1 train-loss: 0.035974 accuracy: 0.5595\n",
      "\u001b[2m\u001b[36m(launch_and_fit pid=96695)\u001b[0m [LOG 20221017-21:22:12] epoch: 1 train-loss: 0.036017 accuracy: 0.5574\n",
      "\u001b[2m\u001b[36m(launch_and_fit pid=96703)\u001b[0m [LOG 20221017-21:22:17] epoch: 2 train-loss: 0.033357 accuracy: 0.5935\n",
      "\u001b[2m\u001b[36m(launch_and_fit pid=96699)\u001b[0m [LOG 20221017-21:22:17] epoch: 2 train-loss: 0.033123 accuracy: 0.5926\n",
      "\u001b[2m\u001b[36m(launch_and_fit pid=96696)\u001b[0m [LOG 20221017-21:22:17] epoch: 2 train-loss: 0.032582 accuracy: 0.6025\n",
      "\u001b[2m\u001b[36m(launch_and_fit pid=96695)\u001b[0m [LOG 20221017-21:22:17] epoch: 2 train-loss: 0.033307 accuracy: 0.5906\n",
      "\u001b[2m\u001b[36m(launch_and_fit pid=96703)\u001b[0m [LOG 20221017-21:22:23] epoch: 3 train-loss: 0.031051 accuracy: 0.6205\n",
      "\u001b[2m\u001b[36m(launch_and_fit pid=96696)\u001b[0m [LOG 20221017-21:22:23] epoch: 3 train-loss: 0.030095 accuracy: 0.6284\n",
      "\u001b[2m\u001b[36m(launch_and_fit pid=96699)\u001b[0m [LOG 20221017-21:22:23] epoch: 3 train-loss: 0.030812 accuracy: 0.6242\n",
      "\u001b[2m\u001b[36m(launch_and_fit pid=96695)\u001b[0m [LOG 20221017-21:22:23] epoch: 3 train-loss: 0.030879 accuracy: 0.619\n",
      "\u001b[2m\u001b[36m(launch_and_fit pid=96696)\u001b[0m [LOG 20221017-21:22:29] epoch: 4 train-loss: 0.028101 accuracy: 0.657\n",
      "\u001b[2m\u001b[36m(launch_and_fit pid=96699)\u001b[0m [LOG 20221017-21:22:29] epoch: 4 train-loss: 0.028394 accuracy: 0.6509\n",
      "\u001b[2m\u001b[36m(launch_and_fit pid=96703)\u001b[0m [LOG 20221017-21:22:29] epoch: 4 train-loss: 0.028792 accuracy: 0.6499\n",
      "\u001b[2m\u001b[36m(launch_and_fit pid=96695)\u001b[0m [LOG 20221017-21:22:29] epoch: 4 train-loss: 0.028697 accuracy: 0.6481\n",
      "\u001b[2m\u001b[36m(launch_and_fit pid=96696)\u001b[0m [LOG 20221017-21:22:36] epoch: 5 train-loss: 0.025825 accuracy: 0.6815\n",
      "\u001b[2m\u001b[36m(launch_and_fit pid=96699)\u001b[0m [LOG 20221017-21:22:36] epoch: 5 train-loss: 0.026049 accuracy: 0.6852\n",
      "\u001b[2m\u001b[36m(launch_and_fit pid=96703)\u001b[0m [LOG 20221017-21:22:37] epoch: 5 train-loss: 0.026462 accuracy: 0.6798\n"
     ]
    },
    {
     "name": "stderr",
     "output_type": "stream",
     "text": [
      "DEBUG flower 2022-10-17 17:22:37,261 | server.py:229 | fit_round 3 received 4 results and 0 failures\n",
      "DEBUG flower 2022-10-17 17:22:37,279 | server.py:165 | evaluate_round 3: strategy sampled 2 clients (out of 4)\n"
     ]
    },
    {
     "name": "stdout",
     "output_type": "stream",
     "text": [
      "\u001b[2m\u001b[36m(launch_and_fit pid=96695)\u001b[0m [LOG 20221017-21:22:37] epoch: 5 train-loss: 0.026198 accuracy: 0.6826\n"
     ]
    },
    {
     "name": "stderr",
     "output_type": "stream",
     "text": [
      "DEBUG flower 2022-10-17 17:22:43,144 | server.py:179 | evaluate_round 3 received 2 results and 0 failures\n",
      "DEBUG flower 2022-10-17 17:22:43,145 | server.py:215 | fit_round 4: strategy sampled 4 clients (out of 4)\n"
     ]
    },
    {
     "name": "stdout",
     "output_type": "stream",
     "text": [
      "[LOG 20221017-21:22:43] weighted average accuracy: 0.5822\n",
      "\u001b[2m\u001b[36m(launch_and_fit pid=96695)\u001b[0m [LOG 20221017-21:22:58] epoch: 1 train-loss: 0.031511 accuracy: 0.6113\n",
      "\u001b[2m\u001b[36m(launch_and_fit pid=96703)\u001b[0m [LOG 20221017-21:22:58] epoch: 1 train-loss: 0.032044 accuracy: 0.608\n",
      "\u001b[2m\u001b[36m(launch_and_fit pid=96699)\u001b[0m [LOG 20221017-21:22:58] epoch: 1 train-loss: 0.032063 accuracy: 0.6105\n",
      "\u001b[2m\u001b[36m(launch_and_fit pid=96696)\u001b[0m [LOG 20221017-21:22:58] epoch: 1 train-loss: 0.032426 accuracy: 0.6082\n",
      "\u001b[2m\u001b[36m(launch_and_fit pid=96699)\u001b[0m [LOG 20221017-21:23:04] epoch: 2 train-loss: 0.028179 accuracy: 0.6564\n",
      "\u001b[2m\u001b[36m(launch_and_fit pid=96695)\u001b[0m [LOG 20221017-21:23:04] epoch: 2 train-loss: 0.028015 accuracy: 0.6558\n",
      "\u001b[2m\u001b[36m(launch_and_fit pid=96703)\u001b[0m [LOG 20221017-21:23:04] epoch: 2 train-loss: 0.028256 accuracy: 0.6561\n",
      "\u001b[2m\u001b[36m(launch_and_fit pid=96696)\u001b[0m [LOG 20221017-21:23:05] epoch: 2 train-loss: 0.028741 accuracy: 0.6503\n",
      "\u001b[2m\u001b[36m(launch_and_fit pid=96695)\u001b[0m [LOG 20221017-21:23:11] epoch: 3 train-loss: 0.025258 accuracy: 0.6941\n",
      "\u001b[2m\u001b[36m(launch_and_fit pid=96699)\u001b[0m [LOG 20221017-21:23:11] epoch: 3 train-loss: 0.025734 accuracy: 0.6914\n",
      "\u001b[2m\u001b[36m(launch_and_fit pid=96703)\u001b[0m [LOG 20221017-21:23:11] epoch: 3 train-loss: 0.025639 accuracy: 0.6864\n",
      "\u001b[2m\u001b[36m(launch_and_fit pid=96696)\u001b[0m [LOG 20221017-21:23:11] epoch: 3 train-loss: 0.025835 accuracy: 0.6887\n",
      "\u001b[2m\u001b[36m(launch_and_fit pid=96695)\u001b[0m [LOG 20221017-21:23:17] epoch: 4 train-loss: 0.022976 accuracy: 0.7242\n",
      "\u001b[2m\u001b[36m(launch_and_fit pid=96699)\u001b[0m [LOG 20221017-21:23:18] epoch: 4 train-loss: 0.022875 accuracy: 0.7218\n",
      "\u001b[2m\u001b[36m(launch_and_fit pid=96703)\u001b[0m [LOG 20221017-21:23:18] epoch: 4 train-loss: 0.023383 accuracy: 0.7172\n",
      "\u001b[2m\u001b[36m(launch_and_fit pid=96696)\u001b[0m [LOG 20221017-21:23:18] epoch: 4 train-loss: 0.023125 accuracy: 0.725\n",
      "\u001b[2m\u001b[36m(launch_and_fit pid=96695)\u001b[0m [LOG 20221017-21:23:23] epoch: 5 train-loss: 0.020781 accuracy: 0.7476\n"
     ]
    },
    {
     "name": "stderr",
     "output_type": "stream",
     "text": [
      "DEBUG flower 2022-10-17 17:23:23,912 | server.py:229 | fit_round 4 received 4 results and 0 failures\n",
      "DEBUG flower 2022-10-17 17:23:23,924 | server.py:165 | evaluate_round 4: strategy sampled 2 clients (out of 4)\n"
     ]
    },
    {
     "name": "stdout",
     "output_type": "stream",
     "text": [
      "\u001b[2m\u001b[36m(launch_and_fit pid=96703)\u001b[0m [LOG 20221017-21:23:23] epoch: 5 train-loss: 0.020753 accuracy: 0.7411\n",
      "\u001b[2m\u001b[36m(launch_and_fit pid=96699)\u001b[0m [LOG 20221017-21:23:23] epoch: 5 train-loss: 0.020797 accuracy: 0.7475\n",
      "\u001b[2m\u001b[36m(launch_and_fit pid=96696)\u001b[0m [LOG 20221017-21:23:23] epoch: 5 train-loss: 0.020818 accuracy: 0.7494\n"
     ]
    },
    {
     "name": "stderr",
     "output_type": "stream",
     "text": [
      "DEBUG flower 2022-10-17 17:23:28,731 | server.py:179 | evaluate_round 4 received 2 results and 0 failures\n",
      "DEBUG flower 2022-10-17 17:23:28,732 | server.py:215 | fit_round 5: strategy sampled 4 clients (out of 4)\n"
     ]
    },
    {
     "name": "stdout",
     "output_type": "stream",
     "text": [
      "[LOG 20221017-21:23:28] weighted average accuracy: 0.5869\n",
      "\u001b[2m\u001b[36m(launch_and_fit pid=96696)\u001b[0m [LOG 20221017-21:23:39] epoch: 1 train-loss: 0.029025 accuracy: 0.6524\n",
      "\u001b[2m\u001b[36m(launch_and_fit pid=96703)\u001b[0m [LOG 20221017-21:23:39] epoch: 1 train-loss: 0.028969 accuracy: 0.6466\n",
      "\u001b[2m\u001b[36m(launch_and_fit pid=96699)\u001b[0m [LOG 20221017-21:23:39] epoch: 1 train-loss: 0.02897 accuracy: 0.6444\n",
      "\u001b[2m\u001b[36m(launch_and_fit pid=96695)\u001b[0m [LOG 20221017-21:23:39] epoch: 1 train-loss: 0.028468 accuracy: 0.6492\n",
      "\u001b[2m\u001b[36m(launch_and_fit pid=96696)\u001b[0m [LOG 20221017-21:23:44] epoch: 2 train-loss: 0.024746 accuracy: 0.6991\n",
      "\u001b[2m\u001b[36m(launch_and_fit pid=96703)\u001b[0m [LOG 20221017-21:23:44] epoch: 2 train-loss: 0.024735 accuracy: 0.6971\n",
      "\u001b[2m\u001b[36m(launch_and_fit pid=96699)\u001b[0m [LOG 20221017-21:23:44] epoch: 2 train-loss: 0.024424 accuracy: 0.7051\n",
      "\u001b[2m\u001b[36m(launch_and_fit pid=96695)\u001b[0m [LOG 20221017-21:23:44] epoch: 2 train-loss: 0.023955 accuracy: 0.7115\n",
      "\u001b[2m\u001b[36m(launch_and_fit pid=96696)\u001b[0m [LOG 20221017-21:23:49] epoch: 3 train-loss: 0.021803 accuracy: 0.7337\n",
      "\u001b[2m\u001b[36m(launch_and_fit pid=96703)\u001b[0m [LOG 20221017-21:23:49] epoch: 3 train-loss: 0.021565 accuracy: 0.7417\n",
      "\u001b[2m\u001b[36m(launch_and_fit pid=96699)\u001b[0m [LOG 20221017-21:23:49] epoch: 3 train-loss: 0.021376 accuracy: 0.739\n",
      "\u001b[2m\u001b[36m(launch_and_fit pid=96695)\u001b[0m [LOG 20221017-21:23:49] epoch: 3 train-loss: 0.020926 accuracy: 0.7462\n",
      "\u001b[2m\u001b[36m(launch_and_fit pid=96696)\u001b[0m [LOG 20221017-21:23:54] epoch: 4 train-loss: 0.019097 accuracy: 0.7698\n",
      "\u001b[2m\u001b[36m(launch_and_fit pid=96703)\u001b[0m [LOG 20221017-21:23:54] epoch: 4 train-loss: 0.018902 accuracy: 0.7693\n",
      "\u001b[2m\u001b[36m(launch_and_fit pid=96699)\u001b[0m [LOG 20221017-21:23:54] epoch: 4 train-loss: 0.018596 accuracy: 0.7753\n",
      "\u001b[2m\u001b[36m(launch_and_fit pid=96695)\u001b[0m [LOG 20221017-21:23:54] epoch: 4 train-loss: 0.018667 accuracy: 0.7738\n",
      "\u001b[2m\u001b[36m(launch_and_fit pid=96696)\u001b[0m [LOG 20221017-21:24:00] epoch: 5 train-loss: 0.01669 accuracy: 0.8007\n"
     ]
    },
    {
     "name": "stderr",
     "output_type": "stream",
     "text": [
      "DEBUG flower 2022-10-17 17:24:00,433 | server.py:229 | fit_round 5 received 4 results and 0 failures\n",
      "DEBUG flower 2022-10-17 17:24:00,446 | server.py:165 | evaluate_round 5: strategy sampled 2 clients (out of 4)\n"
     ]
    },
    {
     "name": "stdout",
     "output_type": "stream",
     "text": [
      "\u001b[2m\u001b[36m(launch_and_fit pid=96703)\u001b[0m [LOG 20221017-21:24:00] epoch: 5 train-loss: 0.016956 accuracy: 0.7965\n",
      "\u001b[2m\u001b[36m(launch_and_fit pid=96699)\u001b[0m [LOG 20221017-21:24:00] epoch: 5 train-loss: 0.016547 accuracy: 0.8012\n",
      "\u001b[2m\u001b[36m(launch_and_fit pid=96695)\u001b[0m [LOG 20221017-21:24:00] epoch: 5 train-loss: 0.015583 accuracy: 0.808\n"
     ]
    },
    {
     "name": "stderr",
     "output_type": "stream",
     "text": [
      "\u001b[2m\u001b[36m(raylet)\u001b[0m Spilled 4409 MiB, 45 objects, write throughput 688 MiB/s.\n",
      "DEBUG flower 2022-10-17 17:24:05,116 | server.py:179 | evaluate_round 5 received 2 results and 0 failures\n",
      "INFO flower 2022-10-17 17:24:05,116 | server.py:144 | FL finished in 199.47965684700466\n",
      "INFO flower 2022-10-17 17:24:05,117 | app.py:180 | app_fit: losses_distributed [(1, 0.053499802913665774), (2, 0.03982186936378479), (3, 0.03806998672485351), (4, 0.038618629980087284), (5, 0.04140465265274048)]\n",
      "INFO flower 2022-10-17 17:24:05,118 | app.py:181 | app_fit: metrics_distributed {'accuracy': [(1, 0.38448), (2, 0.5456), (3, 0.58224), (4, 0.58688), (5, 0.59248)]}\n",
      "INFO flower 2022-10-17 17:24:05,119 | app.py:182 | app_fit: losses_centralized []\n",
      "INFO flower 2022-10-17 17:24:05,119 | app.py:183 | app_fit: metrics_centralized {}\n"
     ]
    },
    {
     "name": "stdout",
     "output_type": "stream",
     "text": [
      "[LOG 20221017-21:24:05] weighted average accuracy: 0.5925\n"
     ]
    }
   ],
   "source": [
    "# start federated learning simulation\n",
    "simulation_results = fl.simulation.start_simulation(\n",
    "    client_fn=client_fn,\n",
    "    num_clients=num_clients,\n",
    "    config=fl.server.ServerConfig(num_rounds=flrounds),\n",
    "    strategy=strategy,\n",
    ")"
   ]
  },
  {
   "cell_type": "markdown",
   "metadata": {},
   "source": [
    "**Congratulations, you just trained a convolutional neural network, federated over 4 clients!**"
   ]
  },
  {
   "cell_type": "code",
   "execution_count": 66,
   "metadata": {},
   "outputs": [
    {
     "data": {
      "image/png": "[encoded data removed]",
      "text/plain": [
       "<Figure size 640x480 with 1 Axes>"
      ]
     },
     "metadata": {},
     "output_type": "display_data"
    }
   ],
   "source": [
    "# prepare plot\n",
    "fig = plt.figure()\n",
    "ax = fig.add_subplot(111)\n",
    "\n",
    "# add grid\n",
    "ax.grid(linestyle='dotted')\n",
    "\n",
    "# determine train epochs and losses\n",
    "train_rounds = [ele[0] for ele in simulation_results.losses_distributed]\n",
    "train_round_losses = [ele[1] for ele in simulation_results.losses_distributed]\n",
    "\n",
    "# plot the training epochs vs. the epochs' classification error\n",
    "ax.plot(train_rounds, train_round_losses, label='epoch loss (blue)')\n",
    "\n",
    "# add axis legends\n",
    "ax.set_xlabel('[communication round $e_i$]', fontsize=10)\n",
    "ax.set_ylabel('[weighted average loss $\\mathcal{L}^{NLL}$]', fontsize=10)\n",
    "\n",
    "# set plot legend\n",
    "plt.legend(loc='upper right', numpoints=1, fancybox=True)\n",
    "\n",
    "# add plot title\n",
    "plt.title('FL Communication Rounds $r_i$ vs. Weighted Average Loss $L^{NLL}$', fontsize=10);"
   ]
  },
  {
   "cell_type": "markdown",
   "metadata": {},
   "source": [
    "With that, you understand the basics of federated learning using the `Flower` federated learning framework. The same approach you've seen can be used with other machine learning frameworks (not just PyTorch) and tasks (not just CIFAR-10 images classification), for example NLP with Hugging Face Transformers or speech with SpeechBrain."
   ]
  },
  {
   "cell_type": "markdown",
   "metadata": {},
   "source": [
    "## 8. Lab Summary:"
   ]
  },
  {
   "cell_type": "markdown",
   "metadata": {},
   "source": [
    "In this lab, a step by step introduction into **design, implementation, training and evaluation** of a federated learning workflow is presented. The code presented in this lab may serves as a starting point for developing more complex, more detailed or more tailored federated learning workflows. "
   ]
  }
 ],
 "metadata": {
  "colab": {
   "collapsed_sections": [],
   "provenance": [],
   "toc_visible": true
  },
  "kernelspec": {
   "display_name": "Python 3 (ipykernel)",
   "language": "python",
   "name": "python3"
  },
  "language_info": {
   "codemirror_mode": {
    "name": "ipython",
    "version": 3
   },
   "file_extension": ".py",
   "mimetype": "text/x-python",
   "name": "python",
   "nbconvert_exporter": "python",
   "pygments_lexer": "ipython3",
   "version": "3.10.6"
  },
  "toc": {
   "base_numbering": 1,
   "nav_menu": {},
   "number_sections": false,
   "sideBar": true,
   "skip_h1_title": false,
   "title_cell": "Table of Contents",
   "title_sidebar": "Contents",
   "toc_cell": false,
   "toc_position": {
    "height": "calc(100% - 180px)",
    "left": "10px",
    "top": "150px",
    "width": "254.39999389648438px"
   },
   "toc_section_display": true,
   "toc_window_display": true
  }
 },
 "nbformat": 4,
 "nbformat_minor": 1
}
