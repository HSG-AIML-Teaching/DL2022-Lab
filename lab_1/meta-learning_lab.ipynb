{
 "cells": [
  {
   "cell_type": "markdown",
   "metadata": {},
   "source": [
    "<img align=\"center\" style='max-width: 1000px' src=\"images/banner.png\">"
   ]
  },
  {
   "cell_type": "markdown",
   "metadata": {},
   "source": [
    "<img align=\"left\" style='max-width: 150px; height: auto' src=\"images/hsg_logo.png\">"
   ]
  },
  {
   "cell_type": "markdown",
   "metadata": {},
   "source": [
    "# Lab 01 - \"Meta-Learning\"\n"
   ]
  },
  {
   "cell_type": "markdown",
   "metadata": {
    "id": "Mzz0qB7dyo42"
   },
   "source": [
    "## Outline\n",
    "\n",
    "### 1. PyTorch Internals\n",
    "- How does PyTorch execute tensor operations in the background?\n",
    "- How does auto-diffenetiation work in PyTorch?\n",
    "- What is the difference between \"stateful\" and \"stateless\" models?\n",
    "\n",
    "### 2. Meta-Learning\n",
    "- What is the obejctive in optimization-based meta-learning, and when to use it?\n",
    "- Meta-learning example with (pure) PyTorch\n",
    "- Meta-Learning example with `higher`"
   ]
  },
  {
   "cell_type": "markdown",
   "metadata": {},
   "source": [
    "## Packages"
   ]
  },
  {
   "cell_type": "code",
   "execution_count": 1,
   "metadata": {
    "colab": {
     "base_uri": "https://localhost:8080/"
    },
    "executionInfo": {
     "elapsed": 11321,
     "status": "ok",
     "timestamp": 1665321409996,
     "user": {
      "displayName": "Hamed Hemati",
      "userId": "17584261734951201205"
     },
     "user_tz": -120
    },
    "id": "NtFSh4Nog78N",
    "outputId": "efb6b9b2-916f-4dbe-b27f-1c621c693c72"
   },
   "outputs": [
    {
     "name": "stdout",
     "output_type": "stream",
     "text": [
      "Requirement already satisfied: torch>=1.12* in /Users/hamed/anaconda3/envs/dl/lib/python3.8/site-packages (1.12.1)\n",
      "Requirement already satisfied: typing-extensions in /Users/hamed/anaconda3/envs/dl/lib/python3.8/site-packages (from torch>=1.12*) (4.1.1)\n",
      "Requirement already satisfied: higher in /Users/hamed/anaconda3/envs/dl/lib/python3.8/site-packages (0.2.1)\n",
      "Requirement already satisfied: torch in /Users/hamed/anaconda3/envs/dl/lib/python3.8/site-packages (from higher) (1.12.1)\n",
      "Requirement already satisfied: typing-extensions in /Users/hamed/anaconda3/envs/dl/lib/python3.8/site-packages (from torch->higher) (4.1.1)\n",
      "Requirement already satisfied: torchvision==0.10.1 in /Users/hamed/anaconda3/envs/dl/lib/python3.8/site-packages (0.10.1)\n"
     ]
    }
   ],
   "source": [
    "!pip install 'torch>=1.12*'\n",
    "!pip install higher\n",
    "!pip install 'torchvision==0.10.1' --no-dependencies"
   ]
  },
  {
   "cell_type": "code",
   "execution_count": 3,
   "metadata": {},
   "outputs": [],
   "source": [
    "import tqdm\n",
    "import matplotlib.pyplot as plt\n",
    "import numpy as np\n",
    "from copy import deepcopy\n",
    "\n",
    "import torch\n",
    "import torch.nn as nn"
   ]
  },
  {
   "cell_type": "markdown",
   "metadata": {
    "id": "bf6VyckEg7XK",
    "tags": []
   },
   "source": [
    "# <font color='red'>1. PyTorch Internals</font>\n",
    "\n",
    "We want to answer these questions:\n",
    "- How does the computational graph of a model work in PyTorch?\n",
    "- What happens when we call `.backward()` on a tensor?\n",
    "- What is a stateful vs stateless model?\n",
    "\n",
    "\n"
   ]
  },
  {
   "cell_type": "markdown",
   "metadata": {
    "id": "KnV-qk0Wjug1"
   },
   "source": [
    "### 1.1 Computational Graphs\n",
    "\n",
    "PyTorch creates computational graphs **dynamically** on the fly.\n",
    "\n",
    "<img align=\"center\" width=\"700\" src=\"images/augmented_computational_graph.png\">"
   ]
  },
  {
   "cell_type": "markdown",
   "metadata": {},
   "source": [
    "$(x_1*x_2)' = x_1'x_2+ x_1*x_2'$ <br>"
   ]
  },
  {
   "cell_type": "markdown",
   "metadata": {},
   "source": [
    "The top graph in the figure above is constructed once we execute the following tensor operations:"
   ]
  },
  {
   "cell_type": "code",
   "execution_count": 4,
   "metadata": {
    "id": "YMMtLipUg2O_"
   },
   "outputs": [],
   "source": [
    "# Create random tensors x1 and x2 \n",
    "x1 = torch.rand(1, 5, requires_grad=True)\n",
    "x2 = torch.rand(1, 5, requires_grad=True)\n",
    "\n",
    "a = x1 * x2\n",
    "\n",
    "y1 = torch.log(a)\n",
    "y2 = torch.sin(x2)\n",
    "\n",
    "w = y1 * y2\n",
    "\n",
    "L = torch.sum(w)"
   ]
  },
  {
   "cell_type": "markdown",
   "metadata": {},
   "source": [
    "To compute the gradients of $L$ w.r.t. $x_1$ and $x_2$, we normally call `L.backward()`. </br>\n",
    "Once we call `.backward()` on $L$, the differentiation graph is generated to compute and assign the gradients, and the graphs are freed afterwards. "
   ]
  },
  {
   "cell_type": "code",
   "execution_count": 4,
   "metadata": {},
   "outputs": [
    {
     "name": "stdout",
     "output_type": "stream",
     "text": [
      "None\n",
      "None\n"
     ]
    }
   ],
   "source": [
    "# Initially the gradients of x1 and x2 are None\n",
    "print(x1.grad)\n",
    "print(x2.grad)"
   ]
  },
  {
   "cell_type": "code",
   "execution_count": 5,
   "metadata": {},
   "outputs": [],
   "source": [
    "L.backward()"
   ]
  },
  {
   "cell_type": "code",
   "execution_count": 6,
   "metadata": {},
   "outputs": [
    {
     "name": "stdout",
     "output_type": "stream",
     "text": [
      "tensor([[1.1903, 1.1452, 0.5527, 0.3853, 0.5406]])\n",
      "tensor([[ 0.3550,  0.5320, -1.0200, -0.6472, -1.2517]])\n"
     ]
    }
   ],
   "source": [
    "# Print the gradients of x1 and x2\n",
    "print(x1.grad)\n",
    "print(x2.grad)"
   ]
  },
  {
   "cell_type": "markdown",
   "metadata": {},
   "source": [
    "A second back-propagation through the model is not possible because after calling `backward()` the computational graph is freed. </br>\n",
    "Soltion: set `retain_graph=True` once calling `.backward(...)` </br>\n",
    "Every time we call backward, the gradients are summed.\n"
   ]
  },
  {
   "cell_type": "code",
   "execution_count": 7,
   "metadata": {
    "colab": {
     "base_uri": "https://localhost:8080/"
    },
    "executionInfo": {
     "elapsed": 10,
     "status": "ok",
     "timestamp": 1665262931781,
     "user": {
      "displayName": "Hamed Hemati",
      "userId": "17584261734951201205"
     },
     "user_tz": -120
    },
    "id": "po8N1Bn_wbOw",
    "outputId": "1748d3a6-0f97-4435-91de-ff31f23594e4"
   },
   "outputs": [],
   "source": [
    "# L.backward()"
   ]
  },
  {
   "cell_type": "markdown",
   "metadata": {},
   "source": [
    "#### Computing gradients for particular variables directly without `.backward()`"
   ]
  },
  {
   "cell_type": "code",
   "execution_count": 8,
   "metadata": {},
   "outputs": [],
   "source": [
    "# Given the same operations\n",
    "\n",
    "x1 = torch.rand(1, 5, requires_grad=True)\n",
    "x2 = torch.rand(1, 5, requires_grad=True)\n",
    "\n",
    "a = x1 * x2\n",
    "\n",
    "y1 = torch.log(a)\n",
    "y2 = torch.sin(x2)\n",
    "\n",
    "w = y1 * y2\n",
    "\n",
    "L = torch.sum(w)\n"
   ]
  },
  {
   "cell_type": "markdown",
   "metadata": {},
   "source": [
    "Now, we only want to compute $\\frac{\\partial L}{\\partial x_1}$ <br>\n",
    "We use `torch.autograd.grad` to compute the gradients of a term w.r.t. a given set of variables. <br>\n",
    "Unlike `.backward()`, it does not assign gradients to the graph nodes automatically.\n"
   ]
  },
  {
   "cell_type": "code",
   "execution_count": 9,
   "metadata": {},
   "outputs": [
    {
     "name": "stdout",
     "output_type": "stream",
     "text": [
      "(tensor([[0.5018, 6.3534, 6.8618, 1.2287, 8.2118]]),)\n"
     ]
    }
   ],
   "source": [
    "# Compute gradient of L w.r.t. x1\n",
    "g_x1 = torch.autograd.grad(L, x1, retain_graph=True)  # we keep the graph of the model to use it later \n",
    " \n",
    "print(g_x1)"
   ]
  },
  {
   "cell_type": "code",
   "execution_count": 10,
   "metadata": {},
   "outputs": [
    {
     "name": "stdout",
     "output_type": "stream",
     "text": [
      "None\n"
     ]
    }
   ],
   "source": [
    "print(x1.grad)"
   ]
  },
  {
   "cell_type": "code",
   "execution_count": 11,
   "metadata": {},
   "outputs": [
    {
     "name": "stdout",
     "output_type": "stream",
     "text": [
      "(tensor([[ 0.1222, -1.9020, -1.5893, -0.1760, -2.0892]]),)\n"
     ]
    }
   ],
   "source": [
    "# Now we compute the gradient of the model for later use\n",
    "g_x2 = torch.autograd.grad(L, x2, retain_graph=True)  # we keep the graph of the model to use it later \n",
    "\n",
    "print(g_x2)"
   ]
  },
  {
   "cell_type": "markdown",
   "metadata": {},
   "source": [
    "### 1.2 Model definition in PyTorch"
   ]
  },
  {
   "cell_type": "markdown",
   "metadata": {},
   "source": [
    "#### >>Stateful<< model definition\n",
    "What we normally do:\n",
    "\n",
    "- Define the model class\n",
    "- Feed an input to the model\n",
    "- Compute the loss\n",
    "- Backpropagate\n",
    "- Update the model using the compute gradients"
   ]
  },
  {
   "cell_type": "code",
   "execution_count": 6,
   "metadata": {
    "id": "BJJdZ1AUoJCJ"
   },
   "outputs": [],
   "source": [
    "class StatefulMLP(nn.Module):\n",
    "    def __init__(self):\n",
    "        super().__init__()\n",
    "        \n",
    "        # Model layers\n",
    "        self.linear1 = nn.Linear(10, 5)\n",
    "        self.linear2 = nn.Linear(5, 1)\n",
    "        self.relu = nn.ReLU(inplace=True)\n",
    "\n",
    "    def forward(self, x):\n",
    "        # Forward steps\n",
    "        x = self.linear1(x)\n",
    "        x = self.relu(x)\n",
    "        x = self.linear2(x)\n",
    "\n",
    "        return x"
   ]
  },
  {
   "cell_type": "markdown",
   "metadata": {},
   "source": [
    "In stateful models, the weights of the model are embedded within the model!"
   ]
  },
  {
   "cell_type": "code",
   "execution_count": 7,
   "metadata": {
    "colab": {
     "base_uri": "https://localhost:8080/"
    },
    "executionInfo": {
     "elapsed": 15,
     "status": "ok",
     "timestamp": 1665262931508,
     "user": {
      "displayName": "Hamed Hemati",
      "userId": "17584261734951201205"
     },
     "user_tz": -120
    },
    "id": "VfcvSxTlv2C8",
    "outputId": "705d7b2e-d68e-496a-fcee-e3f18d49c281"
   },
   "outputs": [
    {
     "name": "stdout",
     "output_type": "stream",
     "text": [
      "tensor([[0.6021],\n",
      "        [0.2513],\n",
      "        [0.0754],\n",
      "        [0.7826],\n",
      "        [0.4413],\n",
      "        [0.1406],\n",
      "        [0.6804],\n",
      "        [0.3333]], grad_fn=<AddmmBackward0>)\n"
     ]
    }
   ],
   "source": [
    "# Create and instance of the model\n",
    "model_stateful = StatefulMLP()\n",
    "\n",
    "# Create random tensor\n",
    "x = torch.randn(8, 10)\n",
    "\n",
    "# Make perdiction with the model using only x\n",
    "out = model_stateful(x)\n",
    "\n",
    "print(out)"
   ]
  },
  {
   "cell_type": "markdown",
   "metadata": {
    "id": "2UKZWVTYvyTY"
   },
   "source": [
    "#### >>Stateless<< model definition\n"
   ]
  },
  {
   "cell_type": "markdown",
   "metadata": {},
   "source": [
    "Stateful models are ideal for most use cases, however, we may need stateless execution for some cases, for example:\n",
    "\n",
    "- When the weights of the model are generated by another networks (Hyper-Networks)\n",
    "- When we want to compute the gradient of a term over an optimization trajectory"
   ]
  },
  {
   "cell_type": "markdown",
   "metadata": {
    "id": "MECHha-SQEeW"
   },
   "source": [
    "<img align=\"center\" width=\"900\" src=\"images/stateless_applications.png\">\n"
   ]
  },
  {
   "cell_type": "markdown",
   "metadata": {},
   "source": [
    "In stateless model defnitions, the model weights are not defined inside the model. Instead, they are provided through the forward function."
   ]
  },
  {
   "cell_type": "markdown",
   "metadata": {},
   "source": [
    "PyTorch functionals: https://pytorch.org/docs/stable/nn.functional.html\n"
   ]
  },
  {
   "cell_type": "code",
   "execution_count": 8,
   "metadata": {},
   "outputs": [],
   "source": [
    "import torch.nn.functional as F"
   ]
  },
  {
   "cell_type": "code",
   "execution_count": 9,
   "metadata": {
    "id": "KT-kY90EvufX"
   },
   "outputs": [],
   "source": [
    "class StatelessMLP(nn.Module):\n",
    "    def __init__(self):\n",
    "        super().__init__()\n",
    "        \n",
    "    def forward(self, x, params):\n",
    "        # The forward function is defined in a different way\n",
    "        # The model weights (parmeters) are given as an input to the forward function\n",
    "        # We assume the model weights are given as a dictionary\n",
    "        # Now we use PyTorch functionals to execute the graph operations\n",
    "        x = F.linear(x, params[\"w1\"])\n",
    "        x = F.relu(x)\n",
    "        x = F.linear(x, params[\"w2\"])\n",
    "\n",
    "        return x"
   ]
  },
  {
   "cell_type": "markdown",
   "metadata": {},
   "source": [
    "How do functionals works? </br>\n",
    "Example:\n",
    "we can use `torch.nn.functional.linear` to apply a linear transformation, i.e: $xw^T$"
   ]
  },
  {
   "cell_type": "code",
   "execution_count": 10,
   "metadata": {
    "colab": {
     "base_uri": "https://localhost:8080/"
    },
    "executionInfo": {
     "elapsed": 12,
     "status": "ok",
     "timestamp": 1665262931508,
     "user": {
      "displayName": "Hamed Hemati",
      "userId": "17584261734951201205"
     },
     "user_tz": -120
    },
    "id": "iElhOBTJ1RWZ",
    "outputId": "31f4d6b1-5c21-495d-ed0a-d96bf6079d01"
   },
   "outputs": [
    {
     "name": "stdout",
     "output_type": "stream",
     "text": [
      "Output shape is:  torch.Size([8, 5])\n"
     ]
    }
   ],
   "source": [
    "# Input: 8 x 10\n",
    "# Transformation: 10 x 5\n",
    "# Output: 8 x 5\n",
    "\n",
    "# Input\n",
    "x = torch.randn(8, 10)\n",
    "\n",
    "# Weights\n",
    "w = torch.ones(5, 10)\n",
    "\n",
    "# Functional\n",
    "out = F.linear(x, w)\n",
    "print(\"Output shape is: \", out.shape)"
   ]
  },
  {
   "cell_type": "markdown",
   "metadata": {},
   "source": [
    "How to use a statelss model defintion?\n"
   ]
  },
  {
   "cell_type": "code",
   "execution_count": 11,
   "metadata": {
    "colab": {
     "base_uri": "https://localhost:8080/"
    },
    "executionInfo": {
     "elapsed": 10,
     "status": "ok",
     "timestamp": 1665262931508,
     "user": {
      "displayName": "Hamed Hemati",
      "userId": "17584261734951201205"
     },
     "user_tz": -120
    },
    "id": "n2_9yX39wNuS",
    "outputId": "e1cef4fa-3b38-4937-edda-bb491dab8f15"
   },
   "outputs": [
    {
     "name": "stdout",
     "output_type": "stream",
     "text": [
      "torch.Size([8, 1])\n"
     ]
    }
   ],
   "source": [
    "# Define model\n",
    "model_stateless  = StatelessMLP()\n",
    "\n",
    "# Model input\n",
    "x = torch.randn(8, 10)\n",
    "\n",
    "# Model parameters (weights)\n",
    "params = {\n",
    "    \"w1\": torch.randn(5, 10),\n",
    "    \"w2\": torch.randn(1, 5)\n",
    "}\n",
    "\n",
    "# Make prediction\n",
    "out = model_stateless(x, params)\n",
    "\n",
    "print(out.shape)"
   ]
  },
  {
   "cell_type": "markdown",
   "metadata": {},
   "source": [
    "#### Creating a stateless model from a stateful model\n",
    "\n",
    "- Defining model operations manually can be cumbersome for large models\n",
    "- Given a regular pytorch model, we want to define a stateless model without re-defining the forwrad function"
   ]
  },
  {
   "cell_type": "markdown",
   "metadata": {},
   "source": [
    "In PyTorch `1.12`, a new features was added for this purpose "
   ]
  },
  {
   "cell_type": "code",
   "execution_count": 12,
   "metadata": {},
   "outputs": [],
   "source": [
    "from torch.nn.utils.stateless import functional_call"
   ]
  },
  {
   "cell_type": "code",
   "execution_count": 13,
   "metadata": {},
   "outputs": [
    {
     "name": "stdout",
     "output_type": "stream",
     "text": [
      "dict_keys(['linear1.weight', 'linear1.bias', 'linear2.weight', 'linear2.bias'])\n",
      "torch.Size([8, 1])\n"
     ]
    }
   ],
   "source": [
    "# Using the previously defined StatefulMLP \n",
    "model1 = StatefulMLP()\n",
    "model2 = StatefulMLP()\n",
    "\n",
    "# create random tensor\n",
    "x = torch.randn(8, 10)\n",
    "\n",
    "# Use the weights of model2 to make prediction\n",
    "params = dict(model2.named_parameters())\n",
    "print(params.keys())\n",
    "\n",
    "# Make prediction statelessly\n",
    "pred = functional_call(model1, params, x)\n",
    "print(pred.shape)\n"
   ]
  },
  {
   "cell_type": "markdown",
   "metadata": {},
   "source": [
    "### 1.3 Manually assigning gradients to a model\n",
    "\n",
    "When we call `loss.backward()`, PyTorch automatically computes gradients and assigns them to the model's parameters. </br>\n",
    "However, when the gradients are calculated via `torch.autograd.grad()`, we need to assign them manually."
   ]
  },
  {
   "cell_type": "code",
   "execution_count": 14,
   "metadata": {},
   "outputs": [],
   "source": [
    "# Using the previously defined StatefulMLP \n",
    "model = StatefulMLP()\n",
    "\n",
    "# Zero all gradients\n",
    "model.zero_grad() \n",
    "\n",
    "# create random tensor\n",
    "x = torch.randn(8, 10)\n",
    "\n",
    "# Forward propagation\n",
    "pred = model(x)\n",
    "\n",
    "# Compute loss and gradients\n",
    "loss = torch.mean(pred)\n",
    "grads = torch.autograd.grad(loss, model.parameters())"
   ]
  },
  {
   "cell_type": "code",
   "execution_count": 15,
   "metadata": {},
   "outputs": [
    {
     "name": "stdout",
     "output_type": "stream",
     "text": [
      "Gradients before assignment\n",
      "None\n",
      "None\n",
      "None\n",
      "None\n",
      "\n",
      "Gradients after assignment\n",
      "tensor([[ 0.0040,  0.2143, -0.2201, -0.0464,  0.1909,  0.0107, -0.0630, -0.0831,\n",
      "         -0.0381, -0.0791],\n",
      "        [-0.0204, -0.0070, -0.0694, -0.0066, -0.0112,  0.0118,  0.0010, -0.0304,\n",
      "         -0.0099, -0.0057],\n",
      "        [ 0.0285,  0.0105, -0.0501,  0.0023, -0.0178,  0.0049, -0.0108, -0.0045,\n",
      "         -0.0072, -0.0022],\n",
      "        [-0.0517,  0.1080, -0.0500,  0.0342, -0.0187, -0.0044,  0.0293, -0.0444,\n",
      "         -0.0049, -0.0577],\n",
      "        [ 0.0365,  0.0672, -0.0305,  0.0460,  0.0015,  0.0131, -0.0097, -0.0355,\n",
      "          0.0032, -0.0163]])\n",
      "tensor([0.2829, 0.0293, 0.0378, 0.0750, 0.0678])\n",
      "tensor([[0.4295, 0.0583, 0.0486, 0.1783, 0.2644]])\n",
      "tensor([1.])\n"
     ]
    }
   ],
   "source": [
    "print(\"Gradients before assignment\")\n",
    "for p in model.parameters():\n",
    "    print(p.grad)\n",
    "\n",
    "# Assign the gradients to the model's parameters\n",
    "for (p, g) in zip(model.parameters(), grads):\n",
    "    p.grad = g\n",
    "    \n",
    "\n",
    "print(\"\\nGradients after assignment\")\n",
    "for p in model.parameters():\n",
    "    print(p.grad)\n",
    "    "
   ]
  },
  {
   "cell_type": "markdown",
   "metadata": {},
   "source": [
    "Now, we are familiar with all tools and techniques to implement and train a meta-model :)"
   ]
  },
  {
   "cell_type": "markdown",
   "metadata": {
    "id": "Yuq408T9iqgb"
   },
   "source": [
    "# <font color='red'>2. Meta-Learning</font>\n",
    "\n",
    "- What is optimization-based meta-learning and when to use meta-learning?\n",
    "\n",
    "In simple words: meta-learning aims to learn the common knowledge in a distribution of tasks.\n"
   ]
  },
  {
   "cell_type": "markdown",
   "metadata": {},
   "source": [
    "## 2.1 Sine-Wave Example"
   ]
  },
  {
   "cell_type": "markdown",
   "metadata": {},
   "source": [
    "Let's start with an example where we have a distribution of sine wave prediction tasks. We want to use a set of these tasks to learn the common knowledge among them and use that knowledge (representation) to adapt to new tasks from the same distribution using very few samples."
   ]
  },
  {
   "cell_type": "code",
   "execution_count": 20,
   "metadata": {
    "id": "YnOicfuyTP2m"
   },
   "outputs": [],
   "source": [
    "# Code adapted from https://github.com/vmikulik/maml-pytorch\n",
    "\n",
    "class SineTask():\n",
    "    \"\"\"\n",
    "    A sine wave data distribution object with interfaces designed for MAML.\n",
    "    \"\"\"\n",
    "    \n",
    "    def __init__(self, amplitude, phase, xmin, xmax):\n",
    "        self.amplitude = amplitude\n",
    "        self.phase = phase\n",
    "        self.xmin = xmin\n",
    "        self.xmax = xmax\n",
    "        \n",
    "    def true_function(self, x):\n",
    "        \"\"\"\n",
    "        Compute the true function on the given x.\n",
    "        \"\"\"\n",
    "        \n",
    "        return self.amplitude * np.sin(self.phase + x)\n",
    "        \n",
    "    def sample_data(self, size=1):\n",
    "        \"\"\"\n",
    "        Sample data from this task.\n",
    "        \n",
    "        returns: \n",
    "            x: the feature vector of length size\n",
    "            y: the target vector of length size\n",
    "        \"\"\"\n",
    "        \n",
    "        x = np.random.uniform(self.xmin, self.xmax, size)\n",
    "        y = self.true_function(x)\n",
    "        \n",
    "        x = torch.tensor(x, dtype=torch.float).unsqueeze(1)\n",
    "        y = torch.tensor(y, dtype=torch.float).unsqueeze(1)\n",
    "        \n",
    "        return x, y\n",
    "\n",
    "class SineTaskDistribution():\n",
    "    \"\"\"\n",
    "    The task distribution for sine regression tasks for MAML\n",
    "    \"\"\"\n",
    "    \n",
    "    def __init__(self, amplitude_min, amplitude_max, phase_min, phase_max, x_min, x_max):\n",
    "        self.amplitude_min = amplitude_min\n",
    "        self.amplitude_max = amplitude_max\n",
    "        self.phase_min = phase_min\n",
    "        self.phase_max = phase_max\n",
    "        self.x_min = x_min\n",
    "        self.x_max = x_max\n",
    "        \n",
    "    def sample_task(self):\n",
    "        \"\"\"\n",
    "        Sample from the task distribution.\n",
    "        \n",
    "        returns:\n",
    "            Sine_Task object\n",
    "        \"\"\"\n",
    "        amplitude = np.random.uniform(self.amplitude_min, self.amplitude_max)\n",
    "        phase = np.random.uniform(self.phase_min, self.phase_max)\n",
    "        return SineTask(amplitude, phase, self.x_min, self.x_max)"
   ]
  },
  {
   "cell_type": "markdown",
   "metadata": {},
   "source": [
    "#### A distribution of sine wave regression tasks"
   ]
  },
  {
   "cell_type": "markdown",
   "metadata": {},
   "source": [
    "We define a distribution of sine wave tasks where each task is a regression task. </br>\n",
    "Different tasks are different in terms of amplitude and phase.\n",
    "We first initialize the `SineTaskDistribution` with predefine parameters. For example we set the range of amplitude to [0.1, 5.0] and of phase to [0.0, $\\pi$]."
   ]
  },
  {
   "cell_type": "code",
   "execution_count": 23,
   "metadata": {
    "id": "GcrKh7XzT3CF"
   },
   "outputs": [],
   "source": [
    "# Define task distribution for the given parameters\n",
    "task_dist = SineTaskDistribution(\n",
    "    amplitude_min=0.1, \n",
    "    amplitude_max=5, \n",
    "    phase_min=0, \n",
    "    phase_max=np.pi, \n",
    "    x_min=-5, \n",
    "    x_max=5\n",
    ")"
   ]
  },
  {
   "cell_type": "code",
   "execution_count": 24,
   "metadata": {
    "colab": {
     "base_uri": "https://localhost:8080/",
     "height": 265
    },
    "executionInfo": {
     "elapsed": 575,
     "status": "ok",
     "timestamp": 1665262932351,
     "user": {
      "displayName": "Hamed Hemati",
      "userId": "17584261734951201205"
     },
     "user_tz": -120
    },
    "id": "1M2jBxWCUXuy",
    "outputId": "d840d34e-48e3-4c3a-af25-4a11ef5d6af8"
   },
   "outputs": [
    {
     "data": {
      "image/png": "[encoded data removed]",
      "text/plain": [
       "<Figure size 432x288 with 1 Axes>"
      ]
     },
     "metadata": {
      "needs_background": "light"
     },
     "output_type": "display_data"
    }
   ],
   "source": [
    "def plot_task(task, linestyle=\"solid\", color=\"blue\"):\n",
    "    \"\"\" Plots the ground-truth sine function with its\n",
    "    sampled datapoints.\n",
    "    \"\"\"\n",
    "    # Plot ground-truth sine function\n",
    "    gt_x = np.linspace(task.xmin, task.xmax, 1000)\n",
    "    gt_y = task.amplitude * np.sin(gt_x + task.phase)\n",
    "    plt.plot(gt_x, gt_y, c='black', linestyle=linestyle)\n",
    "    plt.ylim([-5, 5])\n",
    "    \n",
    "    # Plot randomly sampled datapoints\n",
    "    x, y = task.sample_data(10)\n",
    "    plt.scatter(x.numpy().reshape(-1), y.numpy().reshape(-1), c=color)\n",
    "    \n",
    "# Sample a random task and plot it\n",
    "task = task_dist.sample_task()\n",
    "plot_task(task, linestyle=\"solid\", color=\"blue\")\n",
    "\n",
    "# Another random task\n",
    "task = task_dist.sample_task()\n",
    "plot_task(task, linestyle=\"dashed\", color=\"green\")\n",
    "\n",
    "# Another random task\n",
    "task = task_dist.sample_task()\n",
    "plot_task(task, linestyle=\"dotted\", color=\"red\")\n"
   ]
  },
  {
   "cell_type": "markdown",
   "metadata": {},
   "source": [
    "### 2.1.1 Objective"
   ]
  },
  {
   "cell_type": "markdown",
   "metadata": {},
   "source": [
    "We can sample an arbitrary number of tasks from the task distribution for both training and testing.\n",
    "\n",
    "**Goal**: to train a model that can quickly estimate any sine wave given a handful of samples from it. <br>\n",
    "**Solutions**:\n",
    " - 1 - Train a model on a large set of tasks with regular supervied training.\n",
    " - 2 - Train a meta-model to learn the commonality between the tasks for quick adaptation."
   ]
  },
  {
   "cell_type": "code",
   "execution_count": 25,
   "metadata": {
    "id": "wcJYqSJ60TBn"
   },
   "outputs": [],
   "source": [
    "class MLP(nn.Module):\n",
    "    \"\"\" Defnition of Sine wave estimator model.\"\"\"\n",
    "    def __init__(self):\n",
    "        super().__init__()\n",
    "        \n",
    "        # Model layers\n",
    "        self.layers = nn.Sequential(\n",
    "            nn.Linear(1, 40),\n",
    "            nn.ReLU(),\n",
    "            nn.Linear(40, 40),\n",
    "            nn.ReLU(),\n",
    "            nn.Linear(40, 1)\n",
    "        )\n",
    "  \n",
    "    def forward(self, x):\n",
    "        return self.layers(x)\n"
   ]
  },
  {
   "cell_type": "markdown",
   "metadata": {},
   "source": [
    "### 2.1.2 Supervised pre-training [Approach 1]"
   ]
  },
  {
   "cell_type": "markdown",
   "metadata": {},
   "source": [
    "<img align=\"center\" width=\"900\" src=\"Images/supervised_pretraining.png\">"
   ]
  },
  {
   "cell_type": "code",
   "execution_count": 26,
   "metadata": {
    "id": "aYGAdkBZxCoJ"
   },
   "outputs": [],
   "source": [
    "def pretrained_supervised(n_iterations=1000, device=torch.device(\"cpu\")):\n",
    "    \"\"\" Pretrains a model on a distribution of tasks in a supervised manner.\n",
    "    \n",
    "        n_iterations: number of iterations.\n",
    "    \"\"\"\n",
    "    # Define model, optimizer and criterion\n",
    "    model = MLP()\n",
    "    model.to(device)\n",
    "    optimizer = torch.optim.Adam(model.parameters(), lr=0.01)\n",
    "    criterion = nn.MSELoss()\n",
    "    \n",
    "    # Progress bar\n",
    "    progress = tqdm.tqdm(range(n_iterations))\n",
    "    \n",
    "    # List to store losses\n",
    "    losses = []\n",
    "    \n",
    "    for itr in progress:\n",
    "        # Sample a task\n",
    "        task = task_dist.sample_task()\n",
    "\n",
    "        # Extract datapoints and convert to compute device\n",
    "        x, y = task.sample_data(10)\n",
    "        x, y = x.to(device), y.to(device)\n",
    "\n",
    "        # Reset model gradients\n",
    "        model.zero_grad()\n",
    "\n",
    "        # Make prediction and compute loss\n",
    "        pred = model(x)\n",
    "        loss = criterion(pred, y)\n",
    "\n",
    "        # Compute gradients and update model\n",
    "        loss.backward()\n",
    "        optimizer.step()\n",
    "        \n",
    "        # Log loss value\n",
    "        if itr % 10 == 0:\n",
    "            losses.append(loss.item())\n",
    "\n",
    "        progress.set_description(f\"Loss: {loss.item():0.4f}\")\n",
    "        progress.update()\n",
    "\n",
    "    # Plot loss curve\n",
    "    plt.plot(list(range(len(losses))), losses)  \n",
    "    \n",
    "    return model"
   ]
  },
  {
   "cell_type": "code",
   "execution_count": 27,
   "metadata": {
    "colab": {
     "base_uri": "https://localhost:8080/",
     "height": 282
    },
    "executionInfo": {
     "elapsed": 65611,
     "status": "ok",
     "timestamp": 1665262997958,
     "user": {
      "displayName": "Hamed Hemati",
      "userId": "17584261734951201205"
     },
     "user_tz": -120
    },
    "id": "-8BGsa7i2NUq",
    "outputId": "1d1ab6c3-078b-4776-eeee-31fd7a81d766"
   },
   "outputs": [
    {
     "name": "stderr",
     "output_type": "stream",
     "text": [
      "Loss: 3.9357: 100%|██████████| 10000/10000 [00:19<00:00, 513.13it/s]\n"
     ]
    },
    {
     "data": {
      "image/png": "[encoded data removed]",
      "text/plain": [
       "<Figure size 432x288 with 1 Axes>"
      ]
     },
     "metadata": {
      "needs_background": "light"
     },
     "output_type": "display_data"
    }
   ],
   "source": [
    "model_pretrained = pretrained_supervised(n_iterations=10000)"
   ]
  },
  {
   "cell_type": "markdown",
   "metadata": {},
   "source": [
    "### 2.1.3 Meta-learning (MAML) [Approach 2]"
   ]
  },
  {
   "cell_type": "markdown",
   "metadata": {},
   "source": [
    "<img align=\"center\" width=\"900\" src=\"Images/meta_learning.png\">\n"
   ]
  },
  {
   "cell_type": "code",
   "execution_count": 30,
   "metadata": {
    "id": "e1XAqPvCDggl"
   },
   "outputs": [],
   "source": [
    "def apply_grad(params, grad):\n",
    "    for p, g in zip(params, grad):\n",
    "        p.grad = g\n",
    "  \n",
    "\n",
    "def inner_loop(task, model, criterion, device):\n",
    "    \"\"\" Implements the inner loop of a meta-learning task.\n",
    "    \"\"\"\n",
    "    params_initial = deepcopy(dict(model.named_parameters()))\n",
    "    lr_inner = 0.01\n",
    "\n",
    "    # Sample data for meta-train train-set\n",
    "    x_train, y_train = task.sample_data(10)\n",
    "    x_train, y_train = x_train.to(device), y_train.to(device)\n",
    "\n",
    "    # Update model for one SGD step\n",
    "    pred = functional_call(model, params_initial, x_train)\n",
    "    loss = criterion(pred, y_train)\n",
    "    grad = torch.autograd.grad(loss, params_initial.values(), retain_graph=True)\n",
    "    apply_grad(params_initial.values(), grad)\n",
    "    params_updated = {\n",
    "      n: p - lr_inner * g for ((n, p), g) in zip(params_initial.items(), grad)\n",
    "    }\n",
    "\n",
    "    # Use the updated parameters to compute meta-train test loss\n",
    "    x_test, y_test = task.sample_data(10)\n",
    "    x_test, y_test = x_test.to(device), y_test.to(device)\n",
    "    pred_test = functional_call(model, params_updated, x_test)\n",
    "    loss_test = criterion(pred_test, y_test)\n",
    "\n",
    "    grad = torch.autograd.grad(loss_test, params_initial.values())\n",
    "\n",
    "    return grad, loss_test\n",
    "\n",
    "\n",
    "def meta_train_maml(n_iterations=1000, n_meta_tasks=10, device=torch.device(\"cpu\")):\n",
    "    \"\"\" Meta-trains a model on a distribution of tasks.\n",
    "        n_iterations: number of iterations.\n",
    "        n_meta_tasks: number of tasks in each iterations.\n",
    "    \"\"\"\n",
    "    # Define model, optimizer and criterion\n",
    "    model = MLP()\n",
    "    model.to(device)\n",
    "    criterion = nn.MSELoss()\n",
    "    optimizer_meta = torch.optim.Adam(model.parameters(), lr=0.01)\n",
    "    \n",
    "    # Progress bar\n",
    "    progress = tqdm.tqdm(list(range(n_iterations)))\n",
    "    \n",
    "    # List of meta-losses\n",
    "    meta_losses = []\n",
    "    \n",
    "    # Iterate for n_iteration times\n",
    "    for itr in progress:\n",
    "        # Zero all gradients\n",
    "        model.zero_grad()\n",
    "        \n",
    "        # List to store meta-gradients for tasks at step `itr`\n",
    "        meta_batch_grads = []\n",
    "        \n",
    "        # List to store meta-gradients at step `itr`\n",
    "        meta_batch_losses = []\n",
    "        \n",
    "        # Iterate for `n_meta_tasks` times\n",
    "        for i in range(n_meta_tasks):\n",
    "            # Sample a random task\n",
    "            task = task_dist.sample_task()\n",
    "            \n",
    "            # Compute the gradient and loss in the inner loo\n",
    "            grad, loss = inner_loop(task, model, criterion, device)\n",
    "\n",
    "            meta_batch_grads.append(grad)\n",
    "            meta_batch_losses.append(loss.item())\n",
    "        \n",
    "        # Compute the mean of gradients over the sampled tasks\n",
    "        meta_loss = sum(meta_batch_losses) / len(meta_batch_losses)\n",
    "        meta_grad = [sum(g) / len(g) for g in zip(*meta_batch_grads)]\n",
    "        \n",
    "        # Assign the meta-gradients to the meta-model\n",
    "        apply_grad(model.parameters(), meta_grad)\n",
    "        \n",
    "        # Update meta-model\n",
    "        optimizer_meta.step()\n",
    "        \n",
    "        # Log meta-loss\n",
    "        if itr % 10 == 0:\n",
    "            meta_losses.append(meta_loss)\n",
    "        progress.set_description(f\"Meta-loss: {meta_loss:0.2f}\")\n",
    "        progress.update()\n",
    "\n",
    "    plt.plot(list(range(len(meta_losses))), meta_losses)\n",
    "    return model"
   ]
  },
  {
   "cell_type": "code",
   "execution_count": 31,
   "metadata": {
    "colab": {
     "base_uri": "https://localhost:8080/",
     "height": 282
    },
    "executionInfo": {
     "elapsed": 31066,
     "status": "ok",
     "timestamp": 1665263627144,
     "user": {
      "displayName": "Hamed Hemati",
      "userId": "17584261734951201205"
     },
     "user_tz": -120
    },
    "id": "e7fmLmwErf93",
    "outputId": "793a1eb4-e7f9-4c42-e38e-0148d8d03427"
   },
   "outputs": [
    {
     "name": "stderr",
     "output_type": "stream",
     "text": [
      "Meta-loss: 0.40: 100%|██████████| 10000/10000 [02:40<00:00, 62.49it/s]\n"
     ]
    },
    {
     "data": {
      "image/png": "[encoded data removed]",
      "text/plain": [
       "<Figure size 432x288 with 1 Axes>"
      ]
     },
     "metadata": {
      "needs_background": "light"
     },
     "output_type": "display_data"
    }
   ],
   "source": [
    "model_meta = meta_train_maml(n_iterations=10000, n_meta_tasks=10)"
   ]
  },
  {
   "cell_type": "markdown",
   "metadata": {},
   "source": [
    "### 2.1.4 After Training: Model Adaptation Phase\n",
    "\n",
    "Once the model is trained, we test the model with a new sine wave task. First we adapt the model to the new task using very few samples and SGD steps, then use the adapted model for prediction. "
   ]
  },
  {
   "cell_type": "code",
   "execution_count": 32,
   "metadata": {},
   "outputs": [],
   "source": [
    "def adapt_model(model_original, x, y, n_steps=1):\n",
    "    \"\"\" Adapts a model using samples (x, y) with n steps of SGD.\n",
    "    \n",
    "        model_original: trained model\n",
    "        x, y: data samples\n",
    "        n_steps: number of gradient descent steps\n",
    "    \"\"\"\n",
    "    # Make a copy of the model to avoid changes to the original model\n",
    "    model = deepcopy(model_original)\n",
    "    \n",
    "    # Set model train mode\n",
    "    model.train()\n",
    "    \n",
    "    # Optimizer and criteiron for adaptation\n",
    "    optimizer = torch.optim.SGD(model.parameters(), lr=0.01)\n",
    "    criterion = nn.MSELoss()\n",
    "    \n",
    "    # Adapt the model for n steps\n",
    "    for i in range(n_steps):\n",
    "        model.zero_grad()\n",
    "        pred = model(x)\n",
    "        loss = criterion(pred, y)\n",
    "        loss.backward()\n",
    "        optimizer.step()\n",
    "    \n",
    "    return model"
   ]
  },
  {
   "cell_type": "markdown",
   "metadata": {},
   "source": [
    "Plot results for adapted model </br>\n",
    "For adaptation, we randomly sample a task from the task distribution and then randomly sample n data-points to adapt the model. <br>\n",
    "The number of samples (n), determines the number of shots, therefore we say the problem is an n-shot learning problem."
   ]
  },
  {
   "cell_type": "code",
   "execution_count": 36,
   "metadata": {
    "colab": {
     "base_uri": "https://localhost:8080/",
     "height": 337
    },
    "executionInfo": {
     "elapsed": 761,
     "status": "ok",
     "timestamp": 1665264850136,
     "user": {
      "displayName": "Hamed Hemati",
      "userId": "17584261734951201205"
     },
     "user_tz": -120
    },
    "id": "OU5vyAufulp2",
    "outputId": "3983e950-c950-491a-a785-c359c82c369e"
   },
   "outputs": [
    {
     "data": {
      "text/plain": [
       "[<matplotlib.lines.Line2D at 0x7fd16ab3c340>]"
      ]
     },
     "execution_count": 36,
     "metadata": {},
     "output_type": "execute_result"
    },
    {
     "data": {
      "image/png": "[encoded data removed]",
      "text/plain": [
       "<Figure size 720x360 with 2 Axes>"
      ]
     },
     "metadata": {
      "needs_background": "light"
     },
     "output_type": "display_data"
    }
   ],
   "source": [
    "device = torch.device(\"cpu\")\n",
    "\n",
    "# Sample a random task\n",
    "task = task_dist.sample_task()\n",
    "x, y = task.sample_data(10)\n",
    "x, y = x.to(device), y.to(device)\n",
    "\n",
    "# Adapt the supervised pre-trained model and set eval mode on\n",
    "model_pretrained_adapted = adapt_model(model_pretrained, x, y, n_steps=5)\n",
    "model_pretrained_adapted.eval()\n",
    "\n",
    "# Adapt the meta-model and set eval mode on\n",
    "model_meta_adapted = adapt_model(model_meta, x, y, n_steps=5)\n",
    "model_meta_adapted.eval()\n",
    "\n",
    "# ==============================> Plot results\n",
    "\n",
    "# Create sub-plots\n",
    "fig, ax = plt.subplots(nrows=1, ncols=2, figsize=(10, 5))\n",
    "\n",
    "# -----> Plot supervised-pretrained model results\n",
    "# GT\n",
    "gt_x = np.linspace(task.xmin, task.xmax, 1000)\n",
    "gt_y = task.amplitude * np.sin(gt_x + task.phase)\n",
    "ax[0].plot(gt_x, gt_y, c='black', linewidth=3.0, linestyle=\"dashed\", alpha=0.5)\n",
    "ax[0].scatter(x.cpu().numpy().reshape(-1), y.cpu().numpy().reshape(-1), c='red', s=50)\n",
    "\n",
    "# Prediction\n",
    "gt_x_tensor = torch.FloatTensor(gt_x).unsqueeze(1).to(device)\n",
    "pred_pretrained = model_pretrained_adapted(gt_x_tensor).detach().cpu().squeeze().numpy()\n",
    "ax[0].plot(gt_x, pred_pretrained, c='green', linewidth=2.0)\n",
    "\n",
    "\n",
    "# -----> Plot meta-model results\n",
    "\n",
    "# GT\n",
    "gt_x = np.linspace(task.xmin, task.xmax, 1000)\n",
    "gt_y = task.amplitude * np.sin(gt_x + task.phase)\n",
    "ax[1].plot(gt_x, gt_y, c='black', linewidth=3.0, linestyle=\"dashed\", alpha=0.5)\n",
    "ax[1].scatter(x.cpu().numpy().reshape(-1), y.cpu().numpy().reshape(-1), c='red', s=50)\n",
    "\n",
    "# Prediction\n",
    "gt_x_tensor = torch.FloatTensor(gt_x).unsqueeze(1).to(device)\n",
    "pred_meta = model_meta_adapted(gt_x_tensor).detach().cpu().squeeze().numpy()\n",
    "ax[1].plot(gt_x, pred_meta, c='blue', linewidth=2.0)\n"
   ]
  },
  {
   "cell_type": "code",
   "execution_count": null,
   "metadata": {},
   "outputs": [],
   "source": []
  }
 ],
 "metadata": {
  "accelerator": "GPU",
  "colab": {
   "collapsed_sections": [],
   "provenance": []
  },
  "gpuClass": "standard",
  "kernelspec": {
   "display_name": "Python 3",
   "language": "python",
   "name": "python3"
  },
  "language_info": {
   "codemirror_mode": {
    "name": "ipython",
    "version": 3
   },
   "file_extension": ".py",
   "mimetype": "text/x-python",
   "name": "python",
   "nbconvert_exporter": "python",
   "pygments_lexer": "ipython3",
   "version": "3.8.0"
  }
 },
 "nbformat": 4,
 "nbformat_minor": 4
}
